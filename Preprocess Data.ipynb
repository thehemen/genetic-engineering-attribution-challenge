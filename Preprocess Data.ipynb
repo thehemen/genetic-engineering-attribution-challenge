{
    "nbformat": 4,
    "nbformat_minor": 0,
    "metadata":
    {
        "colab":
        {
            "name": "Preprocess Data.ipynb",
            "provenance":
            [],
            "collapsed_sections":
            []
        },
        "kernelspec":
        {
            "display_name": "Python 3",
            "language": "python",
            "name": "python3"
        },
        "language_info":
        {
            "codemirror_mode":
            {
                "name": "ipython",
                "version": 3
            },
            "file_extension": ".py",
            "mimetype": "text/x-python",
            "name": "python",
            "nbconvert_exporter": "python",
            "pygments_lexer": "ipython3",
            "version": "3.6.9"
        }
    },
    "cells":
    [
        {
            "cell_type": "code",
            "metadata":
            {
                "id": "KSenreVwJUPR"
            },
            "source":
            [
                "import pandas as pd\n",
                "import matplotlib.pyplot as plt\n",
                "import numpy as np\n",
                "import seaborn as sns\n",
                " \n",
                "%matplotlib inline\n",
                "sns.set()"
            ],
            "execution_count": null,
            "outputs":
            []
        },
        {
            "cell_type": "code",
            "metadata":
            {
                "id": "9Sxhlvxjv7_g",
                "executionInfo":
                {
                    "status": "ok",
                    "timestamp": 1602849900362,
                    "user_tz": -420,
                    "elapsed": 1306,
                    "user":
                    {
                        "displayName": "Vladimir Zhuravlev",
                        "photoUrl": "",
                        "userId": "16372324542816680996"
                    }
                },
                "outputId": "6188ecf6-03e1-4015-b8b8-2266f68ddde3",
                "colab":
                {
                    "base_uri": "https://localhost:8080/",
                    "height": 34
                }
            },
            "source":
            [
                "from google.colab import drive\n",
                "drive.mount('/content/drive')"
            ],
            "execution_count": null,
            "outputs":
            [
                {
                    "output_type": "stream",
                    "text":
                    [
                        "Drive already mounted at /content/drive; to attempt to forcibly remount, call drive.mount(\"/content/drive\", force_remount=True).\n"
                    ],
                    "name": "stdout"
                }
            ]
        },
        {
            "cell_type": "code",
            "metadata":
            {
                "id": "9abnzBSNJUPU"
            },
            "source":
            [
                "home_dir = '/content/drive/My Drive/Genetic Engineering Attribution Challenge/'\n",
                "\n",
                "data_dir = home_dir + 'data/'\n",
                "prepr_dir = home_dir + 'preprocessed/'\n",
                "\n",
                "train_values = pd.read_csv(data_dir + 'train_values.csv', index_col='sequence_id')\n",
                "train_values = train_values.sample(frac=1, random_state=0)\n",
                "\n",
                "test_values = pd.read_csv(data_dir + 'test_values.csv', index_col='sequence_id')"
            ],
            "execution_count": null,
            "outputs":
            []
        },
        {
            "cell_type": "code",
            "metadata":
            {
                "id": "Pdkd-YxUJUPW",
                "executionInfo":
                {
                    "status": "ok",
                    "timestamp": 1602849906064,
                    "user_tz": -420,
                    "elapsed": 6999,
                    "user":
                    {
                        "displayName": "Vladimir Zhuravlev",
                        "photoUrl": "",
                        "userId": "16372324542816680996"
                    }
                },
                "outputId": "8d670023-239e-4b4e-ecbe-cde77c3668a0",
                "colab":
                {
                    "base_uri": "https://localhost:8080/",
                    "height": 255
                }
            },
            "source":
            [
                "train_values.head()"
            ],
            "execution_count": null,
            "outputs":
            [
                {
                    "output_type": "execute_result",
                    "data":
                    {
                        "text/html":
                        [
                            "<div>\n",
                            "<style scoped>\n",
                            "    .dataframe tbody tr th:only-of-type {\n",
                            "        vertical-align: middle;\n",
                            "    }\n",
                            "\n",
                            "    .dataframe tbody tr th {\n",
                            "        vertical-align: top;\n",
                            "    }\n",
                            "\n",
                            "    .dataframe thead th {\n",
                            "        text-align: right;\n",
                            "    }\n",
                            "</style>\n",
                            "<table border=\"1\" class=\"dataframe\">\n",
                            "  <thead>\n",
                            "    <tr style=\"text-align: right;\">\n",
                            "      <th></th>\n",
                            "      <th>sequence</th>\n",
                            "      <th>bacterial_resistance_ampicillin</th>\n",
                            "      <th>bacterial_resistance_chloramphenicol</th>\n",
                            "      <th>bacterial_resistance_kanamycin</th>\n",
                            "      <th>bacterial_resistance_other</th>\n",
                            "      <th>bacterial_resistance_spectinomycin</th>\n",
                            "      <th>copy_number_high_copy</th>\n",
                            "      <th>copy_number_low_copy</th>\n",
                            "      <th>copy_number_unknown</th>\n",
                            "      <th>growth_strain_ccdb_survival</th>\n",
                            "      <th>growth_strain_dh10b</th>\n",
                            "      <th>growth_strain_dh5alpha</th>\n",
                            "      <th>growth_strain_neb_stable</th>\n",
                            "      <th>growth_strain_other</th>\n",
                            "      <th>growth_strain_stbl3</th>\n",
                            "      <th>growth_strain_top10</th>\n",
                            "      <th>growth_strain_xl1_blue</th>\n",
                            "      <th>growth_temp_30</th>\n",
                            "      <th>growth_temp_37</th>\n",
                            "      <th>growth_temp_other</th>\n",
                            "      <th>selectable_markers_blasticidin</th>\n",
                            "      <th>selectable_markers_his3</th>\n",
                            "      <th>selectable_markers_hygromycin</th>\n",
                            "      <th>selectable_markers_leu2</th>\n",
                            "      <th>selectable_markers_neomycin</th>\n",
                            "      <th>selectable_markers_other</th>\n",
                            "      <th>selectable_markers_puromycin</th>\n",
                            "      <th>selectable_markers_trp1</th>\n",
                            "      <th>selectable_markers_ura3</th>\n",
                            "      <th>selectable_markers_zeocin</th>\n",
                            "      <th>species_budding_yeast</th>\n",
                            "      <th>species_fly</th>\n",
                            "      <th>species_human</th>\n",
                            "      <th>species_mouse</th>\n",
                            "      <th>species_mustard_weed</th>\n",
                            "      <th>species_nematode</th>\n",
                            "      <th>species_other</th>\n",
                            "      <th>species_rat</th>\n",
                            "      <th>species_synthetic</th>\n",
                            "      <th>species_zebrafish</th>\n",
                            "    </tr>\n",
                            "    <tr>\n",
                            "      <th>sequence_id</th>\n",
                            "      <th></th>\n",
                            "      <th></th>\n",
                            "      <th></th>\n",
                            "      <th></th>\n",
                            "      <th></th>\n",
                            "      <th></th>\n",
                            "      <th></th>\n",
                            "      <th></th>\n",
                            "      <th></th>\n",
                            "      <th></th>\n",
                            "      <th></th>\n",
                            "      <th></th>\n",
                            "      <th></th>\n",
                            "      <th></th>\n",
                            "      <th></th>\n",
                            "      <th></th>\n",
                            "      <th></th>\n",
                            "      <th></th>\n",
                            "      <th></th>\n",
                            "      <th></th>\n",
                            "      <th></th>\n",
                            "      <th></th>\n",
                            "      <th></th>\n",
                            "      <th></th>\n",
                            "      <th></th>\n",
                            "      <th></th>\n",
                            "      <th></th>\n",
                            "      <th></th>\n",
                            "      <th></th>\n",
                            "      <th></th>\n",
                            "      <th></th>\n",
                            "      <th></th>\n",
                            "      <th></th>\n",
                            "      <th></th>\n",
                            "      <th></th>\n",
                            "      <th></th>\n",
                            "      <th></th>\n",
                            "      <th></th>\n",
                            "      <th></th>\n",
                            "      <th></th>\n",
                            "    </tr>\n",
                            "  </thead>\n",
                            "  <tbody>\n",
                            "    <tr>\n",
                            "      <th>ZAUCS</th>\n",
                            "      <td>GTCCGCTGCTGCGTAGCGCGCTGCCGGCTGGCTGGTTTATTGCGGA...</td>\n",
                            "      <td>1.0</td>\n",
                            "      <td>0.0</td>\n",
                            "      <td>1.0</td>\n",
                            "      <td>0.0</td>\n",
                            "      <td>0.0</td>\n",
                            "      <td>0.0</td>\n",
                            "      <td>1.0</td>\n",
                            "      <td>0.0</td>\n",
                            "      <td>0.0</td>\n",
                            "      <td>1.0</td>\n",
                            "      <td>0.0</td>\n",
                            "      <td>0.0</td>\n",
                            "      <td>0.0</td>\n",
                            "      <td>0.0</td>\n",
                            "      <td>0.0</td>\n",
                            "      <td>0.0</td>\n",
                            "      <td>0.0</td>\n",
                            "      <td>1.0</td>\n",
                            "      <td>0.0</td>\n",
                            "      <td>0.0</td>\n",
                            "      <td>0.0</td>\n",
                            "      <td>0.0</td>\n",
                            "      <td>0.0</td>\n",
                            "      <td>0.0</td>\n",
                            "      <td>0.0</td>\n",
                            "      <td>0.0</td>\n",
                            "      <td>0.0</td>\n",
                            "      <td>0.0</td>\n",
                            "      <td>0.0</td>\n",
                            "      <td>0.0</td>\n",
                            "      <td>0.0</td>\n",
                            "      <td>0.0</td>\n",
                            "      <td>0.0</td>\n",
                            "      <td>0.0</td>\n",
                            "      <td>0.0</td>\n",
                            "      <td>0.0</td>\n",
                            "      <td>0.0</td>\n",
                            "      <td>1.0</td>\n",
                            "      <td>0.0</td>\n",
                            "    </tr>\n",
                            "    <tr>\n",
                            "      <th>XRHE8</th>\n",
                            "      <td>CGTCTCATGGCCTGACCCCGGACCAAGTGGTGGCTATCGAGACCGG...</td>\n",
                            "      <td>0.0</td>\n",
                            "      <td>0.0</td>\n",
                            "      <td>0.0</td>\n",
                            "      <td>0.0</td>\n",
                            "      <td>1.0</td>\n",
                            "      <td>1.0</td>\n",
                            "      <td>0.0</td>\n",
                            "      <td>0.0</td>\n",
                            "      <td>0.0</td>\n",
                            "      <td>0.0</td>\n",
                            "      <td>1.0</td>\n",
                            "      <td>0.0</td>\n",
                            "      <td>0.0</td>\n",
                            "      <td>0.0</td>\n",
                            "      <td>0.0</td>\n",
                            "      <td>0.0</td>\n",
                            "      <td>0.0</td>\n",
                            "      <td>1.0</td>\n",
                            "      <td>0.0</td>\n",
                            "      <td>0.0</td>\n",
                            "      <td>0.0</td>\n",
                            "      <td>0.0</td>\n",
                            "      <td>0.0</td>\n",
                            "      <td>0.0</td>\n",
                            "      <td>0.0</td>\n",
                            "      <td>0.0</td>\n",
                            "      <td>0.0</td>\n",
                            "      <td>0.0</td>\n",
                            "      <td>0.0</td>\n",
                            "      <td>0.0</td>\n",
                            "      <td>0.0</td>\n",
                            "      <td>0.0</td>\n",
                            "      <td>0.0</td>\n",
                            "      <td>0.0</td>\n",
                            "      <td>0.0</td>\n",
                            "      <td>0.0</td>\n",
                            "      <td>0.0</td>\n",
                            "      <td>0.0</td>\n",
                            "      <td>0.0</td>\n",
                            "    </tr>\n",
                            "    <tr>\n",
                            "      <th>0M374</th>\n",
                            "      <td>GGCCTAAAAGCGTAGTGGGAAAGTGACGTGAAATTCGTCCAGATTA...</td>\n",
                            "      <td>1.0</td>\n",
                            "      <td>0.0</td>\n",
                            "      <td>0.0</td>\n",
                            "      <td>0.0</td>\n",
                            "      <td>0.0</td>\n",
                            "      <td>0.0</td>\n",
                            "      <td>1.0</td>\n",
                            "      <td>0.0</td>\n",
                            "      <td>0.0</td>\n",
                            "      <td>0.0</td>\n",
                            "      <td>1.0</td>\n",
                            "      <td>0.0</td>\n",
                            "      <td>0.0</td>\n",
                            "      <td>0.0</td>\n",
                            "      <td>0.0</td>\n",
                            "      <td>0.0</td>\n",
                            "      <td>0.0</td>\n",
                            "      <td>1.0</td>\n",
                            "      <td>0.0</td>\n",
                            "      <td>0.0</td>\n",
                            "      <td>0.0</td>\n",
                            "      <td>0.0</td>\n",
                            "      <td>0.0</td>\n",
                            "      <td>0.0</td>\n",
                            "      <td>0.0</td>\n",
                            "      <td>0.0</td>\n",
                            "      <td>0.0</td>\n",
                            "      <td>0.0</td>\n",
                            "      <td>0.0</td>\n",
                            "      <td>0.0</td>\n",
                            "      <td>0.0</td>\n",
                            "      <td>0.0</td>\n",
                            "      <td>0.0</td>\n",
                            "      <td>0.0</td>\n",
                            "      <td>0.0</td>\n",
                            "      <td>0.0</td>\n",
                            "      <td>0.0</td>\n",
                            "      <td>0.0</td>\n",
                            "      <td>0.0</td>\n",
                            "    </tr>\n",
                            "    <tr>\n",
                            "      <th>E0YEX</th>\n",
                            "      <td>TTCTTGAAGACGAAAGGGCCTCGTGATACGCCTATTTTTATAGGTT...</td>\n",
                            "      <td>1.0</td>\n",
                            "      <td>0.0</td>\n",
                            "      <td>0.0</td>\n",
                            "      <td>0.0</td>\n",
                            "      <td>0.0</td>\n",
                            "      <td>0.0</td>\n",
                            "      <td>1.0</td>\n",
                            "      <td>0.0</td>\n",
                            "      <td>0.0</td>\n",
                            "      <td>0.0</td>\n",
                            "      <td>1.0</td>\n",
                            "      <td>0.0</td>\n",
                            "      <td>0.0</td>\n",
                            "      <td>0.0</td>\n",
                            "      <td>0.0</td>\n",
                            "      <td>0.0</td>\n",
                            "      <td>0.0</td>\n",
                            "      <td>1.0</td>\n",
                            "      <td>0.0</td>\n",
                            "      <td>0.0</td>\n",
                            "      <td>0.0</td>\n",
                            "      <td>0.0</td>\n",
                            "      <td>0.0</td>\n",
                            "      <td>0.0</td>\n",
                            "      <td>0.0</td>\n",
                            "      <td>0.0</td>\n",
                            "      <td>0.0</td>\n",
                            "      <td>0.0</td>\n",
                            "      <td>0.0</td>\n",
                            "      <td>0.0</td>\n",
                            "      <td>0.0</td>\n",
                            "      <td>0.0</td>\n",
                            "      <td>0.0</td>\n",
                            "      <td>0.0</td>\n",
                            "      <td>0.0</td>\n",
                            "      <td>0.0</td>\n",
                            "      <td>0.0</td>\n",
                            "      <td>1.0</td>\n",
                            "      <td>0.0</td>\n",
                            "    </tr>\n",
                            "    <tr>\n",
                            "      <th>05KHP</th>\n",
                            "      <td>CAACAGTCCCCCGGCCACGGGGCCTGCCACCATACCCACGCCGAAA...</td>\n",
                            "      <td>0.0</td>\n",
                            "      <td>0.0</td>\n",
                            "      <td>1.0</td>\n",
                            "      <td>0.0</td>\n",
                            "      <td>0.0</td>\n",
                            "      <td>0.0</td>\n",
                            "      <td>1.0</td>\n",
                            "      <td>0.0</td>\n",
                            "      <td>0.0</td>\n",
                            "      <td>0.0</td>\n",
                            "      <td>1.0</td>\n",
                            "      <td>0.0</td>\n",
                            "      <td>0.0</td>\n",
                            "      <td>0.0</td>\n",
                            "      <td>0.0</td>\n",
                            "      <td>0.0</td>\n",
                            "      <td>0.0</td>\n",
                            "      <td>1.0</td>\n",
                            "      <td>0.0</td>\n",
                            "      <td>0.0</td>\n",
                            "      <td>0.0</td>\n",
                            "      <td>0.0</td>\n",
                            "      <td>0.0</td>\n",
                            "      <td>0.0</td>\n",
                            "      <td>0.0</td>\n",
                            "      <td>0.0</td>\n",
                            "      <td>0.0</td>\n",
                            "      <td>0.0</td>\n",
                            "      <td>0.0</td>\n",
                            "      <td>0.0</td>\n",
                            "      <td>0.0</td>\n",
                            "      <td>0.0</td>\n",
                            "      <td>0.0</td>\n",
                            "      <td>0.0</td>\n",
                            "      <td>0.0</td>\n",
                            "      <td>0.0</td>\n",
                            "      <td>0.0</td>\n",
                            "      <td>0.0</td>\n",
                            "      <td>0.0</td>\n",
                            "    </tr>\n",
                            "  </tbody>\n",
                            "</table>\n",
                            "</div>"
                        ],
                        "text/plain":
                        [
                            "                                                      sequence  ...  species_zebrafish\n",
                            "sequence_id                                                     ...                   \n",
                            "ZAUCS        GTCCGCTGCTGCGTAGCGCGCTGCCGGCTGGCTGGTTTATTGCGGA...  ...                0.0\n",
                            "XRHE8        CGTCTCATGGCCTGACCCCGGACCAAGTGGTGGCTATCGAGACCGG...  ...                0.0\n",
                            "0M374        GGCCTAAAAGCGTAGTGGGAAAGTGACGTGAAATTCGTCCAGATTA...  ...                0.0\n",
                            "E0YEX        TTCTTGAAGACGAAAGGGCCTCGTGATACGCCTATTTTTATAGGTT...  ...                0.0\n",
                            "05KHP        CAACAGTCCCCCGGCCACGGGGCCTGCCACCATACCCACGCCGAAA...  ...                0.0\n",
                            "\n",
                            "[5 rows x 40 columns]"
                        ]
                    },
                    "metadata":
                    {
                        "tags":
                        []
                    },
                    "execution_count": 4
                }
            ]
        },
        {
            "cell_type": "code",
            "metadata":
            {
                "id": "qNUDkmEBJUPY",
                "executionInfo":
                {
                    "status": "ok",
                    "timestamp": 1602849906065,
                    "user_tz": -420,
                    "elapsed": 6998,
                    "user":
                    {
                        "displayName": "Vladimir Zhuravlev",
                        "photoUrl": "",
                        "userId": "16372324542816680996"
                    }
                },
                "outputId": "cab81ca1-766c-47ab-b65d-ec370d302575",
                "colab":
                {
                    "base_uri": "https://localhost:8080/",
                    "height": 714
                }
            },
            "source":
            [
                "train_values.dtypes"
            ],
            "execution_count": null,
            "outputs":
            [
                {
                    "output_type": "execute_result",
                    "data":
                    {
                        "text/plain":
                        [
                            "sequence                                 object\n",
                            "bacterial_resistance_ampicillin         float64\n",
                            "bacterial_resistance_chloramphenicol    float64\n",
                            "bacterial_resistance_kanamycin          float64\n",
                            "bacterial_resistance_other              float64\n",
                            "bacterial_resistance_spectinomycin      float64\n",
                            "copy_number_high_copy                   float64\n",
                            "copy_number_low_copy                    float64\n",
                            "copy_number_unknown                     float64\n",
                            "growth_strain_ccdb_survival             float64\n",
                            "growth_strain_dh10b                     float64\n",
                            "growth_strain_dh5alpha                  float64\n",
                            "growth_strain_neb_stable                float64\n",
                            "growth_strain_other                     float64\n",
                            "growth_strain_stbl3                     float64\n",
                            "growth_strain_top10                     float64\n",
                            "growth_strain_xl1_blue                  float64\n",
                            "growth_temp_30                          float64\n",
                            "growth_temp_37                          float64\n",
                            "growth_temp_other                       float64\n",
                            "selectable_markers_blasticidin          float64\n",
                            "selectable_markers_his3                 float64\n",
                            "selectable_markers_hygromycin           float64\n",
                            "selectable_markers_leu2                 float64\n",
                            "selectable_markers_neomycin             float64\n",
                            "selectable_markers_other                float64\n",
                            "selectable_markers_puromycin            float64\n",
                            "selectable_markers_trp1                 float64\n",
                            "selectable_markers_ura3                 float64\n",
                            "selectable_markers_zeocin               float64\n",
                            "species_budding_yeast                   float64\n",
                            "species_fly                             float64\n",
                            "species_human                           float64\n",
                            "species_mouse                           float64\n",
                            "species_mustard_weed                    float64\n",
                            "species_nematode                        float64\n",
                            "species_other                           float64\n",
                            "species_rat                             float64\n",
                            "species_synthetic                       float64\n",
                            "species_zebrafish                       float64\n",
                            "dtype: object"
                        ]
                    },
                    "metadata":
                    {
                        "tags":
                        []
                    },
                    "execution_count": 5
                }
            ]
        },
        {
            "cell_type": "code",
            "metadata":
            {
                "id": "UTsRWVhWJUPb",
                "executionInfo":
                {
                    "status": "ok",
                    "timestamp": 1602849906066,
                    "user_tz": -420,
                    "elapsed": 6996,
                    "user":
                    {
                        "displayName": "Vladimir Zhuravlev",
                        "photoUrl": "",
                        "userId": "16372324542816680996"
                    }
                },
                "outputId": "4a51820f-3aee-4383-d75d-9ec4c77193a2",
                "colab":
                {
                    "base_uri": "https://localhost:8080/",
                    "height": 170
                }
            },
            "source":
            [
                "sequence_lengths = train_values.sequence.apply(len)\n",
                "sequence_lengths.describe()"
            ],
            "execution_count": null,
            "outputs":
            [
                {
                    "output_type": "execute_result",
                    "data":
                    {
                        "text/plain":
                        [
                            "count    63017.000000\n",
                            "mean      4839.025501\n",
                            "std       3883.148431\n",
                            "min         20.000000\n",
                            "25%        909.000000\n",
                            "50%       4741.000000\n",
                            "75%       7490.000000\n",
                            "max      60099.000000\n",
                            "Name: sequence, dtype: float64"
                        ]
                    },
                    "metadata":
                    {
                        "tags":
                        []
                    },
                    "execution_count": 6
                }
            ]
        },
        {
            "cell_type": "code",
            "metadata":
            {
                "id": "9VlQazomJUPd",
                "executionInfo":
                {
                    "status": "ok",
                    "timestamp": 1602849907136,
                    "user_tz": -420,
                    "elapsed": 8063,
                    "user":
                    {
                        "displayName": "Vladimir Zhuravlev",
                        "photoUrl": "",
                        "userId": "16372324542816680996"
                    }
                },
                "outputId": "a3200dc5-dcc7-45dd-bc0b-dfbd897a3b72",
                "colab":
                {
                    "base_uri": "https://localhost:8080/",
                    "height": 284
                }
            },
            "source":
            [
                "sequence_lengths.plot(\n",
                "    kind='hist', \n",
                "    title='Distribution of DNA Sequence Lengths', \n",
                "    bins=100,\n",
                "    xlim=(0, 20000));  # don't plot super long sequences"
            ],
            "execution_count": null,
            "outputs":
            [
                {
                    "output_type": "display_data",
                    "data":
                    {
                        "image/png": "[encoded data removed]",
                        "text/plain":
                        [
                            "<Figure size 432x288 with 1 Axes>"
                        ]
                    },
                    "metadata":
                    {
                        "tags":
                        [],
                        "needs_background": "light"
                    }
                }
            ]
        },
        {
            "cell_type": "code",
            "metadata":
            {
                "id": "Kp0iNLv_JUPe",
                "executionInfo":
                {
                    "status": "ok",
                    "timestamp": 1602849907139,
                    "user_tz": -420,
                    "elapsed": 8062,
                    "user":
                    {
                        "displayName": "Vladimir Zhuravlev",
                        "photoUrl": "",
                        "userId": "16372324542816680996"
                    }
                },
                "outputId": "2b3e6d9e-4b5e-4173-b470-0264cbec0ae6",
                "colab":
                {
                    "base_uri": "https://localhost:8080/",
                    "height": 131
                }
            },
            "source":
            [
                "# exclude the 0th column which is the dna sequence\n",
                "train_values.iloc[:, 1:].apply(pd.value_counts)"
            ],
            "execution_count": null,
            "outputs":
            [
                {
                    "output_type": "execute_result",
                    "data":
                    {
                        "text/html":
                        [
                            "<div>\n",
                            "<style scoped>\n",
                            "    .dataframe tbody tr th:only-of-type {\n",
                            "        vertical-align: middle;\n",
                            "    }\n",
                            "\n",
                            "    .dataframe tbody tr th {\n",
                            "        vertical-align: top;\n",
                            "    }\n",
                            "\n",
                            "    .dataframe thead th {\n",
                            "        text-align: right;\n",
                            "    }\n",
                            "</style>\n",
                            "<table border=\"1\" class=\"dataframe\">\n",
                            "  <thead>\n",
                            "    <tr style=\"text-align: right;\">\n",
                            "      <th></th>\n",
                            "      <th>bacterial_resistance_ampicillin</th>\n",
                            "      <th>bacterial_resistance_chloramphenicol</th>\n",
                            "      <th>bacterial_resistance_kanamycin</th>\n",
                            "      <th>bacterial_resistance_other</th>\n",
                            "      <th>bacterial_resistance_spectinomycin</th>\n",
                            "      <th>copy_number_high_copy</th>\n",
                            "      <th>copy_number_low_copy</th>\n",
                            "      <th>copy_number_unknown</th>\n",
                            "      <th>growth_strain_ccdb_survival</th>\n",
                            "      <th>growth_strain_dh10b</th>\n",
                            "      <th>growth_strain_dh5alpha</th>\n",
                            "      <th>growth_strain_neb_stable</th>\n",
                            "      <th>growth_strain_other</th>\n",
                            "      <th>growth_strain_stbl3</th>\n",
                            "      <th>growth_strain_top10</th>\n",
                            "      <th>growth_strain_xl1_blue</th>\n",
                            "      <th>growth_temp_30</th>\n",
                            "      <th>growth_temp_37</th>\n",
                            "      <th>growth_temp_other</th>\n",
                            "      <th>selectable_markers_blasticidin</th>\n",
                            "      <th>selectable_markers_his3</th>\n",
                            "      <th>selectable_markers_hygromycin</th>\n",
                            "      <th>selectable_markers_leu2</th>\n",
                            "      <th>selectable_markers_neomycin</th>\n",
                            "      <th>selectable_markers_other</th>\n",
                            "      <th>selectable_markers_puromycin</th>\n",
                            "      <th>selectable_markers_trp1</th>\n",
                            "      <th>selectable_markers_ura3</th>\n",
                            "      <th>selectable_markers_zeocin</th>\n",
                            "      <th>species_budding_yeast</th>\n",
                            "      <th>species_fly</th>\n",
                            "      <th>species_human</th>\n",
                            "      <th>species_mouse</th>\n",
                            "      <th>species_mustard_weed</th>\n",
                            "      <th>species_nematode</th>\n",
                            "      <th>species_other</th>\n",
                            "      <th>species_rat</th>\n",
                            "      <th>species_synthetic</th>\n",
                            "      <th>species_zebrafish</th>\n",
                            "    </tr>\n",
                            "  </thead>\n",
                            "  <tbody>\n",
                            "    <tr>\n",
                            "      <th>0.0</th>\n",
                            "      <td>19590</td>\n",
                            "      <td>60506</td>\n",
                            "      <td>48706</td>\n",
                            "      <td>62078</td>\n",
                            "      <td>58592</td>\n",
                            "      <td>18750</td>\n",
                            "      <td>57313</td>\n",
                            "      <td>50059</td>\n",
                            "      <td>61841</td>\n",
                            "      <td>61285</td>\n",
                            "      <td>17440</td>\n",
                            "      <td>58004</td>\n",
                            "      <td>60436</td>\n",
                            "      <td>60647</td>\n",
                            "      <td>60331</td>\n",
                            "      <td>61216</td>\n",
                            "      <td>61148</td>\n",
                            "      <td>1985</td>\n",
                            "      <td>62989</td>\n",
                            "      <td>62387</td>\n",
                            "      <td>62679</td>\n",
                            "      <td>61237</td>\n",
                            "      <td>62574</td>\n",
                            "      <td>54069</td>\n",
                            "      <td>60835</td>\n",
                            "      <td>56600</td>\n",
                            "      <td>62585</td>\n",
                            "      <td>62160</td>\n",
                            "      <td>62458</td>\n",
                            "      <td>61417</td>\n",
                            "      <td>61478</td>\n",
                            "      <td>36890</td>\n",
                            "      <td>57732</td>\n",
                            "      <td>61978</td>\n",
                            "      <td>62322</td>\n",
                            "      <td>56381</td>\n",
                            "      <td>61949</td>\n",
                            "      <td>55170</td>\n",
                            "      <td>61742</td>\n",
                            "    </tr>\n",
                            "    <tr>\n",
                            "      <th>1.0</th>\n",
                            "      <td>43427</td>\n",
                            "      <td>2511</td>\n",
                            "      <td>14311</td>\n",
                            "      <td>939</td>\n",
                            "      <td>4425</td>\n",
                            "      <td>44267</td>\n",
                            "      <td>5704</td>\n",
                            "      <td>12958</td>\n",
                            "      <td>1176</td>\n",
                            "      <td>1732</td>\n",
                            "      <td>45577</td>\n",
                            "      <td>5013</td>\n",
                            "      <td>2581</td>\n",
                            "      <td>2370</td>\n",
                            "      <td>2686</td>\n",
                            "      <td>1801</td>\n",
                            "      <td>1869</td>\n",
                            "      <td>61032</td>\n",
                            "      <td>28</td>\n",
                            "      <td>630</td>\n",
                            "      <td>338</td>\n",
                            "      <td>1780</td>\n",
                            "      <td>443</td>\n",
                            "      <td>8948</td>\n",
                            "      <td>2182</td>\n",
                            "      <td>6417</td>\n",
                            "      <td>432</td>\n",
                            "      <td>857</td>\n",
                            "      <td>559</td>\n",
                            "      <td>1600</td>\n",
                            "      <td>1539</td>\n",
                            "      <td>26127</td>\n",
                            "      <td>5285</td>\n",
                            "      <td>1039</td>\n",
                            "      <td>695</td>\n",
                            "      <td>6636</td>\n",
                            "      <td>1068</td>\n",
                            "      <td>7847</td>\n",
                            "      <td>1275</td>\n",
                            "    </tr>\n",
                            "  </tbody>\n",
                            "</table>\n",
                            "</div>"
                        ],
                        "text/plain":
                        [
                            "     bacterial_resistance_ampicillin  ...  species_zebrafish\n",
                            "0.0                            19590  ...              61742\n",
                            "1.0                            43427  ...               1275\n",
                            "\n",
                            "[2 rows x 39 columns]"
                        ]
                    },
                    "metadata":
                    {
                        "tags":
                        []
                    },
                    "execution_count": 8
                }
            ]
        },
        {
            "cell_type": "code",
            "metadata":
            {
                "id": "-jbIdZSZJUPg",
                "executionInfo":
                {
                    "status": "ok",
                    "timestamp": 1602849908232,
                    "user_tz": -420,
                    "elapsed": 9149,
                    "user":
                    {
                        "displayName": "Vladimir Zhuravlev",
                        "photoUrl": "",
                        "userId": "16372324542816680996"
                    }
                },
                "outputId": "c7f3782a-6cc6-4440-9cfb-880c0cba2c7b",
                "colab":
                {
                    "base_uri": "https://localhost:8080/",
                    "height": 736
                }
            },
            "source":
            [
                "sorted_binary_features = train_values.iloc[:, 1:].mean().sort_values()\n",
                "\n",
                "ax = sorted_binary_features.plot(kind='barh',\n",
                "                                 stacked=True,\n",
                "                                 figsize=(5, 12),\n",
                "                                 title='Prevalence of Binary Features')\n",
                "ax.set_xlabel('Proportion of sequences');"
            ],
            "execution_count": null,
            "outputs":
            [
                {
                    "output_type": "display_data",
                    "data":
                    {
                        "image/png": "[encoded data removed]",
                        "text/plain":
                        [
                            "<Figure size 360x864 with 1 Axes>"
                        ]
                    },
                    "metadata":
                    {
                        "tags":
                        [],
                        "needs_background": "light"
                    }
                }
            ]
        },
        {
            "cell_type": "code",
            "metadata":
            {
                "id": "gwjxQOE6JUPi",
                "executionInfo":
                {
                    "status": "ok",
                    "timestamp": 1602849908235,
                    "user_tz": -420,
                    "elapsed": 9147,
                    "user":
                    {
                        "displayName": "Vladimir Zhuravlev",
                        "photoUrl": "",
                        "userId": "16372324542816680996"
                    }
                },
                "outputId": "fc3c32d6-0b8c-4dbd-fd24-9aa75c8a2503",
                "colab":
                {
                    "base_uri": "https://localhost:8080/",
                    "height": 255
                }
            },
            "source":
            [
                "test_values.head()"
            ],
            "execution_count": null,
            "outputs":
            [
                {
                    "output_type": "execute_result",
                    "data":
                    {
                        "text/html":
                        [
                            "<div>\n",
                            "<style scoped>\n",
                            "    .dataframe tbody tr th:only-of-type {\n",
                            "        vertical-align: middle;\n",
                            "    }\n",
                            "\n",
                            "    .dataframe tbody tr th {\n",
                            "        vertical-align: top;\n",
                            "    }\n",
                            "\n",
                            "    .dataframe thead th {\n",
                            "        text-align: right;\n",
                            "    }\n",
                            "</style>\n",
                            "<table border=\"1\" class=\"dataframe\">\n",
                            "  <thead>\n",
                            "    <tr style=\"text-align: right;\">\n",
                            "      <th></th>\n",
                            "      <th>sequence</th>\n",
                            "      <th>bacterial_resistance_ampicillin</th>\n",
                            "      <th>bacterial_resistance_chloramphenicol</th>\n",
                            "      <th>bacterial_resistance_kanamycin</th>\n",
                            "      <th>bacterial_resistance_other</th>\n",
                            "      <th>bacterial_resistance_spectinomycin</th>\n",
                            "      <th>copy_number_high_copy</th>\n",
                            "      <th>copy_number_low_copy</th>\n",
                            "      <th>copy_number_unknown</th>\n",
                            "      <th>growth_strain_ccdb_survival</th>\n",
                            "      <th>growth_strain_dh10b</th>\n",
                            "      <th>growth_strain_dh5alpha</th>\n",
                            "      <th>growth_strain_neb_stable</th>\n",
                            "      <th>growth_strain_other</th>\n",
                            "      <th>growth_strain_stbl3</th>\n",
                            "      <th>growth_strain_top10</th>\n",
                            "      <th>growth_strain_xl1_blue</th>\n",
                            "      <th>growth_temp_30</th>\n",
                            "      <th>growth_temp_37</th>\n",
                            "      <th>growth_temp_other</th>\n",
                            "      <th>selectable_markers_blasticidin</th>\n",
                            "      <th>selectable_markers_his3</th>\n",
                            "      <th>selectable_markers_hygromycin</th>\n",
                            "      <th>selectable_markers_leu2</th>\n",
                            "      <th>selectable_markers_neomycin</th>\n",
                            "      <th>selectable_markers_other</th>\n",
                            "      <th>selectable_markers_puromycin</th>\n",
                            "      <th>selectable_markers_trp1</th>\n",
                            "      <th>selectable_markers_ura3</th>\n",
                            "      <th>selectable_markers_zeocin</th>\n",
                            "      <th>species_budding_yeast</th>\n",
                            "      <th>species_fly</th>\n",
                            "      <th>species_human</th>\n",
                            "      <th>species_mouse</th>\n",
                            "      <th>species_mustard_weed</th>\n",
                            "      <th>species_nematode</th>\n",
                            "      <th>species_other</th>\n",
                            "      <th>species_rat</th>\n",
                            "      <th>species_synthetic</th>\n",
                            "      <th>species_zebrafish</th>\n",
                            "    </tr>\n",
                            "    <tr>\n",
                            "      <th>sequence_id</th>\n",
                            "      <th></th>\n",
                            "      <th></th>\n",
                            "      <th></th>\n",
                            "      <th></th>\n",
                            "      <th></th>\n",
                            "      <th></th>\n",
                            "      <th></th>\n",
                            "      <th></th>\n",
                            "      <th></th>\n",
                            "      <th></th>\n",
                            "      <th></th>\n",
                            "      <th></th>\n",
                            "      <th></th>\n",
                            "      <th></th>\n",
                            "      <th></th>\n",
                            "      <th></th>\n",
                            "      <th></th>\n",
                            "      <th></th>\n",
                            "      <th></th>\n",
                            "      <th></th>\n",
                            "      <th></th>\n",
                            "      <th></th>\n",
                            "      <th></th>\n",
                            "      <th></th>\n",
                            "      <th></th>\n",
                            "      <th></th>\n",
                            "      <th></th>\n",
                            "      <th></th>\n",
                            "      <th></th>\n",
                            "      <th></th>\n",
                            "      <th></th>\n",
                            "      <th></th>\n",
                            "      <th></th>\n",
                            "      <th></th>\n",
                            "      <th></th>\n",
                            "      <th></th>\n",
                            "      <th></th>\n",
                            "      <th></th>\n",
                            "      <th></th>\n",
                            "      <th></th>\n",
                            "    </tr>\n",
                            "  </thead>\n",
                            "  <tbody>\n",
                            "    <tr>\n",
                            "      <th>E0VFT</th>\n",
                            "      <td>AGATCTATACATTGAATCAATATTGGCAATTAGCCATATTAGTCAT...</td>\n",
                            "      <td>1.0</td>\n",
                            "      <td>0.0</td>\n",
                            "      <td>0.0</td>\n",
                            "      <td>0.0</td>\n",
                            "      <td>0.0</td>\n",
                            "      <td>0.0</td>\n",
                            "      <td>0.0</td>\n",
                            "      <td>1.0</td>\n",
                            "      <td>0.0</td>\n",
                            "      <td>0.0</td>\n",
                            "      <td>1.0</td>\n",
                            "      <td>0.0</td>\n",
                            "      <td>0.0</td>\n",
                            "      <td>0.0</td>\n",
                            "      <td>0.0</td>\n",
                            "      <td>0.0</td>\n",
                            "      <td>0.0</td>\n",
                            "      <td>1.0</td>\n",
                            "      <td>0.0</td>\n",
                            "      <td>0.0</td>\n",
                            "      <td>0.0</td>\n",
                            "      <td>0.0</td>\n",
                            "      <td>0.0</td>\n",
                            "      <td>0.0</td>\n",
                            "      <td>0.0</td>\n",
                            "      <td>0.0</td>\n",
                            "      <td>0.0</td>\n",
                            "      <td>0.0</td>\n",
                            "      <td>0.0</td>\n",
                            "      <td>0.0</td>\n",
                            "      <td>0.0</td>\n",
                            "      <td>0.0</td>\n",
                            "      <td>0.0</td>\n",
                            "      <td>0.0</td>\n",
                            "      <td>0.0</td>\n",
                            "      <td>0.0</td>\n",
                            "      <td>0.0</td>\n",
                            "      <td>0.0</td>\n",
                            "      <td>1.0</td>\n",
                            "    </tr>\n",
                            "    <tr>\n",
                            "      <th>TTRK5</th>\n",
                            "      <td>GCGCGCGTTGACATTGATTATTGACTAGTTATTAATAGTAATCAAT...</td>\n",
                            "      <td>0.0</td>\n",
                            "      <td>0.0</td>\n",
                            "      <td>0.0</td>\n",
                            "      <td>1.0</td>\n",
                            "      <td>0.0</td>\n",
                            "      <td>1.0</td>\n",
                            "      <td>0.0</td>\n",
                            "      <td>0.0</td>\n",
                            "      <td>0.0</td>\n",
                            "      <td>0.0</td>\n",
                            "      <td>1.0</td>\n",
                            "      <td>0.0</td>\n",
                            "      <td>0.0</td>\n",
                            "      <td>0.0</td>\n",
                            "      <td>0.0</td>\n",
                            "      <td>0.0</td>\n",
                            "      <td>0.0</td>\n",
                            "      <td>1.0</td>\n",
                            "      <td>0.0</td>\n",
                            "      <td>0.0</td>\n",
                            "      <td>0.0</td>\n",
                            "      <td>0.0</td>\n",
                            "      <td>0.0</td>\n",
                            "      <td>0.0</td>\n",
                            "      <td>0.0</td>\n",
                            "      <td>0.0</td>\n",
                            "      <td>0.0</td>\n",
                            "      <td>0.0</td>\n",
                            "      <td>1.0</td>\n",
                            "      <td>0.0</td>\n",
                            "      <td>0.0</td>\n",
                            "      <td>1.0</td>\n",
                            "      <td>0.0</td>\n",
                            "      <td>0.0</td>\n",
                            "      <td>0.0</td>\n",
                            "      <td>0.0</td>\n",
                            "      <td>0.0</td>\n",
                            "      <td>0.0</td>\n",
                            "      <td>0.0</td>\n",
                            "    </tr>\n",
                            "    <tr>\n",
                            "      <th>2Z7FZ</th>\n",
                            "      <td>GCTTAAGCGGTCGACGGATCGGGAGATCTCCCGATCCCCTATGGTG...</td>\n",
                            "      <td>1.0</td>\n",
                            "      <td>0.0</td>\n",
                            "      <td>0.0</td>\n",
                            "      <td>0.0</td>\n",
                            "      <td>0.0</td>\n",
                            "      <td>0.0</td>\n",
                            "      <td>0.0</td>\n",
                            "      <td>1.0</td>\n",
                            "      <td>0.0</td>\n",
                            "      <td>0.0</td>\n",
                            "      <td>0.0</td>\n",
                            "      <td>1.0</td>\n",
                            "      <td>0.0</td>\n",
                            "      <td>0.0</td>\n",
                            "      <td>0.0</td>\n",
                            "      <td>0.0</td>\n",
                            "      <td>0.0</td>\n",
                            "      <td>1.0</td>\n",
                            "      <td>0.0</td>\n",
                            "      <td>0.0</td>\n",
                            "      <td>0.0</td>\n",
                            "      <td>0.0</td>\n",
                            "      <td>0.0</td>\n",
                            "      <td>1.0</td>\n",
                            "      <td>0.0</td>\n",
                            "      <td>0.0</td>\n",
                            "      <td>0.0</td>\n",
                            "      <td>0.0</td>\n",
                            "      <td>0.0</td>\n",
                            "      <td>0.0</td>\n",
                            "      <td>0.0</td>\n",
                            "      <td>0.0</td>\n",
                            "      <td>0.0</td>\n",
                            "      <td>0.0</td>\n",
                            "      <td>0.0</td>\n",
                            "      <td>0.0</td>\n",
                            "      <td>0.0</td>\n",
                            "      <td>0.0</td>\n",
                            "      <td>0.0</td>\n",
                            "    </tr>\n",
                            "    <tr>\n",
                            "      <th>VJI6E</th>\n",
                            "      <td>ATGATGATGATGTCCCTGAACAGCAAGCAGGCGTTTAGCATGCCGC...</td>\n",
                            "      <td>0.0</td>\n",
                            "      <td>0.0</td>\n",
                            "      <td>0.0</td>\n",
                            "      <td>0.0</td>\n",
                            "      <td>1.0</td>\n",
                            "      <td>1.0</td>\n",
                            "      <td>0.0</td>\n",
                            "      <td>0.0</td>\n",
                            "      <td>0.0</td>\n",
                            "      <td>0.0</td>\n",
                            "      <td>1.0</td>\n",
                            "      <td>0.0</td>\n",
                            "      <td>0.0</td>\n",
                            "      <td>0.0</td>\n",
                            "      <td>0.0</td>\n",
                            "      <td>0.0</td>\n",
                            "      <td>0.0</td>\n",
                            "      <td>1.0</td>\n",
                            "      <td>0.0</td>\n",
                            "      <td>0.0</td>\n",
                            "      <td>0.0</td>\n",
                            "      <td>0.0</td>\n",
                            "      <td>0.0</td>\n",
                            "      <td>0.0</td>\n",
                            "      <td>0.0</td>\n",
                            "      <td>0.0</td>\n",
                            "      <td>0.0</td>\n",
                            "      <td>0.0</td>\n",
                            "      <td>0.0</td>\n",
                            "      <td>0.0</td>\n",
                            "      <td>0.0</td>\n",
                            "      <td>1.0</td>\n",
                            "      <td>0.0</td>\n",
                            "      <td>0.0</td>\n",
                            "      <td>0.0</td>\n",
                            "      <td>0.0</td>\n",
                            "      <td>0.0</td>\n",
                            "      <td>0.0</td>\n",
                            "      <td>0.0</td>\n",
                            "    </tr>\n",
                            "    <tr>\n",
                            "      <th>721FI</th>\n",
                            "      <td>GGTACCGAGCTCTTACGCGTGCTAGCCATACTATCAGCCACTTGTG...</td>\n",
                            "      <td>1.0</td>\n",
                            "      <td>0.0</td>\n",
                            "      <td>0.0</td>\n",
                            "      <td>0.0</td>\n",
                            "      <td>0.0</td>\n",
                            "      <td>1.0</td>\n",
                            "      <td>0.0</td>\n",
                            "      <td>0.0</td>\n",
                            "      <td>0.0</td>\n",
                            "      <td>0.0</td>\n",
                            "      <td>1.0</td>\n",
                            "      <td>0.0</td>\n",
                            "      <td>0.0</td>\n",
                            "      <td>0.0</td>\n",
                            "      <td>0.0</td>\n",
                            "      <td>0.0</td>\n",
                            "      <td>0.0</td>\n",
                            "      <td>1.0</td>\n",
                            "      <td>0.0</td>\n",
                            "      <td>0.0</td>\n",
                            "      <td>0.0</td>\n",
                            "      <td>0.0</td>\n",
                            "      <td>0.0</td>\n",
                            "      <td>0.0</td>\n",
                            "      <td>0.0</td>\n",
                            "      <td>0.0</td>\n",
                            "      <td>0.0</td>\n",
                            "      <td>0.0</td>\n",
                            "      <td>0.0</td>\n",
                            "      <td>0.0</td>\n",
                            "      <td>0.0</td>\n",
                            "      <td>1.0</td>\n",
                            "      <td>0.0</td>\n",
                            "      <td>0.0</td>\n",
                            "      <td>0.0</td>\n",
                            "      <td>0.0</td>\n",
                            "      <td>0.0</td>\n",
                            "      <td>0.0</td>\n",
                            "      <td>0.0</td>\n",
                            "    </tr>\n",
                            "  </tbody>\n",
                            "</table>\n",
                            "</div>"
                        ],
                        "text/plain":
                        [
                            "                                                      sequence  ...  species_zebrafish\n",
                            "sequence_id                                                     ...                   \n",
                            "E0VFT        AGATCTATACATTGAATCAATATTGGCAATTAGCCATATTAGTCAT...  ...                1.0\n",
                            "TTRK5        GCGCGCGTTGACATTGATTATTGACTAGTTATTAATAGTAATCAAT...  ...                0.0\n",
                            "2Z7FZ        GCTTAAGCGGTCGACGGATCGGGAGATCTCCCGATCCCCTATGGTG...  ...                0.0\n",
                            "VJI6E        ATGATGATGATGTCCCTGAACAGCAAGCAGGCGTTTAGCATGCCGC...  ...                0.0\n",
                            "721FI        GGTACCGAGCTCTTACGCGTGCTAGCCATACTATCAGCCACTTGTG...  ...                0.0\n",
                            "\n",
                            "[5 rows x 40 columns]"
                        ]
                    },
                    "metadata":
                    {
                        "tags":
                        []
                    },
                    "execution_count": 10
                }
            ]
        },
        {
            "cell_type": "code",
            "metadata":
            {
                "id": "7itvsNKgJUPl",
                "executionInfo":
                {
                    "status": "ok",
                    "timestamp": 1602849908235,
                    "user_tz": -420,
                    "elapsed": 9141,
                    "user":
                    {
                        "displayName": "Vladimir Zhuravlev",
                        "photoUrl": "",
                        "userId": "16372324542816680996"
                    }
                },
                "outputId": "36f1e1fd-d97d-4a48-f56a-1820639526c0",
                "colab":
                {
                    "base_uri": "https://localhost:8080/",
                    "height": 170
                }
            },
            "source":
            [
                "test_values.sequence.apply(len).describe()"
            ],
            "execution_count": null,
            "outputs":
            [
                {
                    "output_type": "execute_result",
                    "data":
                    {
                        "text/plain":
                        [
                            "count    18816.000000\n",
                            "mean      4875.523810\n",
                            "std       4004.117614\n",
                            "min         19.000000\n",
                            "25%        894.750000\n",
                            "50%       4732.000000\n",
                            "75%       7341.250000\n",
                            "max      38638.000000\n",
                            "Name: sequence, dtype: float64"
                        ]
                    },
                    "metadata":
                    {
                        "tags":
                        []
                    },
                    "execution_count": 11
                }
            ]
        },
        {
            "cell_type": "code",
            "metadata":
            {
                "id": "8zGQN5M2Hou1",
                "executionInfo":
                {
                    "status": "ok",
                    "timestamp": 1602849921860,
                    "user_tz": -420,
                    "elapsed": 22762,
                    "user":
                    {
                        "displayName": "Vladimir Zhuravlev",
                        "photoUrl": "",
                        "userId": "16372324542816680996"
                    }
                },
                "outputId": "9fa88380-e7e3-4f38-bfa8-b4091301e65b",
                "colab":
                {
                    "base_uri": "https://localhost:8080/",
                    "height": 284
                }
            },
            "source":
            [
                "train_labels = pd.read_csv(data_dir + 'train_labels.csv', index_col='sequence_id')\n",
                "train_labels = train_labels.sample(frac=1, random_state=0)\n",
                "train_labels.head()"
            ],
            "execution_count": null,
            "outputs":
            [
                {
                    "output_type": "execute_result",
                    "data":
                    {
                        "text/html":
                        [
                            "<div>\n",
                            "<style scoped>\n",
                            "    .dataframe tbody tr th:only-of-type {\n",
                            "        vertical-align: middle;\n",
                            "    }\n",
                            "\n",
                            "    .dataframe tbody tr th {\n",
                            "        vertical-align: top;\n",
                            "    }\n",
                            "\n",
                            "    .dataframe thead th {\n",
                            "        text-align: right;\n",
                            "    }\n",
                            "</style>\n",
                            "<table border=\"1\" class=\"dataframe\">\n",
                            "  <thead>\n",
                            "    <tr style=\"text-align: right;\">\n",
                            "      <th></th>\n",
                            "      <th>00Q4V31T</th>\n",
                            "      <th>012VT4JK</th>\n",
                            "      <th>028IO5W2</th>\n",
                            "      <th>03GRNN7N</th>\n",
                            "      <th>03Y3W51H</th>\n",
                            "      <th>09MQV1TY</th>\n",
                            "      <th>0A4AHRCT</th>\n",
                            "      <th>0A9M05NC</th>\n",
                            "      <th>0B9GCUVV</th>\n",
                            "      <th>0CL7QVG8</th>\n",
                            "      <th>0CML4B5I</th>\n",
                            "      <th>0DTHTJLJ</th>\n",
                            "      <th>0FFBBVE1</th>\n",
                            "      <th>0HWCWFNU</th>\n",
                            "      <th>0L3Y6ZB2</th>\n",
                            "      <th>0M44GDO8</th>\n",
                            "      <th>0MDYJM3H</th>\n",
                            "      <th>0N3V9P9M</th>\n",
                            "      <th>0NP55E93</th>\n",
                            "      <th>0PJ91ZT6</th>\n",
                            "      <th>0R296F9R</th>\n",
                            "      <th>0T2AZBD6</th>\n",
                            "      <th>0URA80CN</th>\n",
                            "      <th>0VRP2DI6</th>\n",
                            "      <th>0W6O08VX</th>\n",
                            "      <th>0WHP4PPK</th>\n",
                            "      <th>0XPTGGLP</th>\n",
                            "      <th>0XS4FHP3</th>\n",
                            "      <th>0Y24J5G2</th>\n",
                            "      <th>10TEBWK2</th>\n",
                            "      <th>11TTDKTM</th>\n",
                            "      <th>131RRHBV</th>\n",
                            "      <th>13LZE1F7</th>\n",
                            "      <th>14PBN8C2</th>\n",
                            "      <th>15D0Z97U</th>\n",
                            "      <th>15S88O4Q</th>\n",
                            "      <th>18C9J8EH</th>\n",
                            "      <th>19CAUKJB</th>\n",
                            "      <th>1AP294AT</th>\n",
                            "      <th>1B9BJ2IP</th>\n",
                            "      <th>...</th>\n",
                            "      <th>Z1C99MVU</th>\n",
                            "      <th>Z1Y066QU</th>\n",
                            "      <th>Z6LWLWFZ</th>\n",
                            "      <th>Z7YFK3I0</th>\n",
                            "      <th>Z7ZKDLZG</th>\n",
                            "      <th>Z80NVAXF</th>\n",
                            "      <th>Z8BWVZZX</th>\n",
                            "      <th>ZAYLY2YU</th>\n",
                            "      <th>ZB6DPIG5</th>\n",
                            "      <th>ZB862XHR</th>\n",
                            "      <th>ZBQD50GN</th>\n",
                            "      <th>ZC07UYVV</th>\n",
                            "      <th>ZCU48L3S</th>\n",
                            "      <th>ZEAZQ1QQ</th>\n",
                            "      <th>ZEB7PDQK</th>\n",
                            "      <th>ZEBTRK7D</th>\n",
                            "      <th>ZEJOQQJF</th>\n",
                            "      <th>ZELU1VMX</th>\n",
                            "      <th>ZFBSIW7Q</th>\n",
                            "      <th>ZGY1YZ7P</th>\n",
                            "      <th>ZH6LR5MO</th>\n",
                            "      <th>ZIGUIE0J</th>\n",
                            "      <th>ZIJRW95G</th>\n",
                            "      <th>ZK6YBV02</th>\n",
                            "      <th>ZLSXM0KN</th>\n",
                            "      <th>ZMCRIYYJ</th>\n",
                            "      <th>ZMEZU4BS</th>\n",
                            "      <th>ZMUIMBDX</th>\n",
                            "      <th>ZOI7FJEN</th>\n",
                            "      <th>ZQ5A6IY9</th>\n",
                            "      <th>ZQNGGY33</th>\n",
                            "      <th>ZSHS4VJZ</th>\n",
                            "      <th>ZT1IP3T6</th>\n",
                            "      <th>ZU6860XU</th>\n",
                            "      <th>ZU6TVFFU</th>\n",
                            "      <th>ZU75P59K</th>\n",
                            "      <th>ZUI6TDWV</th>\n",
                            "      <th>ZWFD8OHC</th>\n",
                            "      <th>ZX06ZDZN</th>\n",
                            "      <th>ZZJVE4HO</th>\n",
                            "    </tr>\n",
                            "    <tr>\n",
                            "      <th>sequence_id</th>\n",
                            "      <th></th>\n",
                            "      <th></th>\n",
                            "      <th></th>\n",
                            "      <th></th>\n",
                            "      <th></th>\n",
                            "      <th></th>\n",
                            "      <th></th>\n",
                            "      <th></th>\n",
                            "      <th></th>\n",
                            "      <th></th>\n",
                            "      <th></th>\n",
                            "      <th></th>\n",
                            "      <th></th>\n",
                            "      <th></th>\n",
                            "      <th></th>\n",
                            "      <th></th>\n",
                            "      <th></th>\n",
                            "      <th></th>\n",
                            "      <th></th>\n",
                            "      <th></th>\n",
                            "      <th></th>\n",
                            "      <th></th>\n",
                            "      <th></th>\n",
                            "      <th></th>\n",
                            "      <th></th>\n",
                            "      <th></th>\n",
                            "      <th></th>\n",
                            "      <th></th>\n",
                            "      <th></th>\n",
                            "      <th></th>\n",
                            "      <th></th>\n",
                            "      <th></th>\n",
                            "      <th></th>\n",
                            "      <th></th>\n",
                            "      <th></th>\n",
                            "      <th></th>\n",
                            "      <th></th>\n",
                            "      <th></th>\n",
                            "      <th></th>\n",
                            "      <th></th>\n",
                            "      <th></th>\n",
                            "      <th></th>\n",
                            "      <th></th>\n",
                            "      <th></th>\n",
                            "      <th></th>\n",
                            "      <th></th>\n",
                            "      <th></th>\n",
                            "      <th></th>\n",
                            "      <th></th>\n",
                            "      <th></th>\n",
                            "      <th></th>\n",
                            "      <th></th>\n",
                            "      <th></th>\n",
                            "      <th></th>\n",
                            "      <th></th>\n",
                            "      <th></th>\n",
                            "      <th></th>\n",
                            "      <th></th>\n",
                            "      <th></th>\n",
                            "      <th></th>\n",
                            "      <th></th>\n",
                            "      <th></th>\n",
                            "      <th></th>\n",
                            "      <th></th>\n",
                            "      <th></th>\n",
                            "      <th></th>\n",
                            "      <th></th>\n",
                            "      <th></th>\n",
                            "      <th></th>\n",
                            "      <th></th>\n",
                            "      <th></th>\n",
                            "      <th></th>\n",
                            "      <th></th>\n",
                            "      <th></th>\n",
                            "      <th></th>\n",
                            "      <th></th>\n",
                            "      <th></th>\n",
                            "      <th></th>\n",
                            "      <th></th>\n",
                            "      <th></th>\n",
                            "      <th></th>\n",
                            "    </tr>\n",
                            "  </thead>\n",
                            "  <tbody>\n",
                            "    <tr>\n",
                            "      <th>ZAUCS</th>\n",
                            "      <td>0.0</td>\n",
                            "      <td>0.0</td>\n",
                            "      <td>0.0</td>\n",
                            "      <td>0.0</td>\n",
                            "      <td>0.0</td>\n",
                            "      <td>0.0</td>\n",
                            "      <td>0.0</td>\n",
                            "      <td>0.0</td>\n",
                            "      <td>0.0</td>\n",
                            "      <td>0.0</td>\n",
                            "      <td>0.0</td>\n",
                            "      <td>0.0</td>\n",
                            "      <td>0.0</td>\n",
                            "      <td>0.0</td>\n",
                            "      <td>0.0</td>\n",
                            "      <td>0.0</td>\n",
                            "      <td>0.0</td>\n",
                            "      <td>0.0</td>\n",
                            "      <td>0.0</td>\n",
                            "      <td>0.0</td>\n",
                            "      <td>0.0</td>\n",
                            "      <td>0.0</td>\n",
                            "      <td>0.0</td>\n",
                            "      <td>0.0</td>\n",
                            "      <td>0.0</td>\n",
                            "      <td>0.0</td>\n",
                            "      <td>0.0</td>\n",
                            "      <td>0.0</td>\n",
                            "      <td>0.0</td>\n",
                            "      <td>0.0</td>\n",
                            "      <td>0.0</td>\n",
                            "      <td>0.0</td>\n",
                            "      <td>0.0</td>\n",
                            "      <td>0.0</td>\n",
                            "      <td>0.0</td>\n",
                            "      <td>0.0</td>\n",
                            "      <td>0.0</td>\n",
                            "      <td>0.0</td>\n",
                            "      <td>0.0</td>\n",
                            "      <td>0.0</td>\n",
                            "      <td>...</td>\n",
                            "      <td>0.0</td>\n",
                            "      <td>0.0</td>\n",
                            "      <td>0.0</td>\n",
                            "      <td>0.0</td>\n",
                            "      <td>0.0</td>\n",
                            "      <td>0.0</td>\n",
                            "      <td>0.0</td>\n",
                            "      <td>0.0</td>\n",
                            "      <td>0.0</td>\n",
                            "      <td>0.0</td>\n",
                            "      <td>0.0</td>\n",
                            "      <td>0.0</td>\n",
                            "      <td>0.0</td>\n",
                            "      <td>0.0</td>\n",
                            "      <td>0.0</td>\n",
                            "      <td>0.0</td>\n",
                            "      <td>0.0</td>\n",
                            "      <td>0.0</td>\n",
                            "      <td>0.0</td>\n",
                            "      <td>0.0</td>\n",
                            "      <td>0.0</td>\n",
                            "      <td>0.0</td>\n",
                            "      <td>0.0</td>\n",
                            "      <td>0.0</td>\n",
                            "      <td>0.0</td>\n",
                            "      <td>0.0</td>\n",
                            "      <td>0.0</td>\n",
                            "      <td>0.0</td>\n",
                            "      <td>0.0</td>\n",
                            "      <td>0.0</td>\n",
                            "      <td>0.0</td>\n",
                            "      <td>0.0</td>\n",
                            "      <td>0.0</td>\n",
                            "      <td>0.0</td>\n",
                            "      <td>0.0</td>\n",
                            "      <td>0.0</td>\n",
                            "      <td>0.0</td>\n",
                            "      <td>0.0</td>\n",
                            "      <td>0.0</td>\n",
                            "      <td>0.0</td>\n",
                            "    </tr>\n",
                            "    <tr>\n",
                            "      <th>XRHE8</th>\n",
                            "      <td>0.0</td>\n",
                            "      <td>0.0</td>\n",
                            "      <td>0.0</td>\n",
                            "      <td>0.0</td>\n",
                            "      <td>0.0</td>\n",
                            "      <td>0.0</td>\n",
                            "      <td>0.0</td>\n",
                            "      <td>0.0</td>\n",
                            "      <td>0.0</td>\n",
                            "      <td>0.0</td>\n",
                            "      <td>0.0</td>\n",
                            "      <td>0.0</td>\n",
                            "      <td>0.0</td>\n",
                            "      <td>0.0</td>\n",
                            "      <td>0.0</td>\n",
                            "      <td>0.0</td>\n",
                            "      <td>0.0</td>\n",
                            "      <td>0.0</td>\n",
                            "      <td>0.0</td>\n",
                            "      <td>0.0</td>\n",
                            "      <td>0.0</td>\n",
                            "      <td>0.0</td>\n",
                            "      <td>0.0</td>\n",
                            "      <td>0.0</td>\n",
                            "      <td>0.0</td>\n",
                            "      <td>0.0</td>\n",
                            "      <td>0.0</td>\n",
                            "      <td>0.0</td>\n",
                            "      <td>0.0</td>\n",
                            "      <td>0.0</td>\n",
                            "      <td>0.0</td>\n",
                            "      <td>0.0</td>\n",
                            "      <td>0.0</td>\n",
                            "      <td>0.0</td>\n",
                            "      <td>0.0</td>\n",
                            "      <td>0.0</td>\n",
                            "      <td>0.0</td>\n",
                            "      <td>0.0</td>\n",
                            "      <td>0.0</td>\n",
                            "      <td>0.0</td>\n",
                            "      <td>...</td>\n",
                            "      <td>0.0</td>\n",
                            "      <td>0.0</td>\n",
                            "      <td>0.0</td>\n",
                            "      <td>0.0</td>\n",
                            "      <td>0.0</td>\n",
                            "      <td>0.0</td>\n",
                            "      <td>0.0</td>\n",
                            "      <td>0.0</td>\n",
                            "      <td>0.0</td>\n",
                            "      <td>0.0</td>\n",
                            "      <td>0.0</td>\n",
                            "      <td>0.0</td>\n",
                            "      <td>0.0</td>\n",
                            "      <td>0.0</td>\n",
                            "      <td>0.0</td>\n",
                            "      <td>0.0</td>\n",
                            "      <td>0.0</td>\n",
                            "      <td>0.0</td>\n",
                            "      <td>0.0</td>\n",
                            "      <td>0.0</td>\n",
                            "      <td>0.0</td>\n",
                            "      <td>0.0</td>\n",
                            "      <td>0.0</td>\n",
                            "      <td>0.0</td>\n",
                            "      <td>0.0</td>\n",
                            "      <td>0.0</td>\n",
                            "      <td>0.0</td>\n",
                            "      <td>0.0</td>\n",
                            "      <td>0.0</td>\n",
                            "      <td>0.0</td>\n",
                            "      <td>0.0</td>\n",
                            "      <td>0.0</td>\n",
                            "      <td>0.0</td>\n",
                            "      <td>0.0</td>\n",
                            "      <td>0.0</td>\n",
                            "      <td>0.0</td>\n",
                            "      <td>0.0</td>\n",
                            "      <td>0.0</td>\n",
                            "      <td>0.0</td>\n",
                            "      <td>0.0</td>\n",
                            "    </tr>\n",
                            "    <tr>\n",
                            "      <th>0M374</th>\n",
                            "      <td>0.0</td>\n",
                            "      <td>0.0</td>\n",
                            "      <td>0.0</td>\n",
                            "      <td>0.0</td>\n",
                            "      <td>0.0</td>\n",
                            "      <td>0.0</td>\n",
                            "      <td>0.0</td>\n",
                            "      <td>0.0</td>\n",
                            "      <td>0.0</td>\n",
                            "      <td>0.0</td>\n",
                            "      <td>0.0</td>\n",
                            "      <td>0.0</td>\n",
                            "      <td>0.0</td>\n",
                            "      <td>0.0</td>\n",
                            "      <td>0.0</td>\n",
                            "      <td>0.0</td>\n",
                            "      <td>0.0</td>\n",
                            "      <td>0.0</td>\n",
                            "      <td>0.0</td>\n",
                            "      <td>0.0</td>\n",
                            "      <td>0.0</td>\n",
                            "      <td>0.0</td>\n",
                            "      <td>0.0</td>\n",
                            "      <td>0.0</td>\n",
                            "      <td>0.0</td>\n",
                            "      <td>0.0</td>\n",
                            "      <td>0.0</td>\n",
                            "      <td>0.0</td>\n",
                            "      <td>0.0</td>\n",
                            "      <td>0.0</td>\n",
                            "      <td>0.0</td>\n",
                            "      <td>0.0</td>\n",
                            "      <td>0.0</td>\n",
                            "      <td>0.0</td>\n",
                            "      <td>0.0</td>\n",
                            "      <td>0.0</td>\n",
                            "      <td>0.0</td>\n",
                            "      <td>0.0</td>\n",
                            "      <td>0.0</td>\n",
                            "      <td>0.0</td>\n",
                            "      <td>...</td>\n",
                            "      <td>0.0</td>\n",
                            "      <td>0.0</td>\n",
                            "      <td>0.0</td>\n",
                            "      <td>0.0</td>\n",
                            "      <td>0.0</td>\n",
                            "      <td>0.0</td>\n",
                            "      <td>0.0</td>\n",
                            "      <td>0.0</td>\n",
                            "      <td>0.0</td>\n",
                            "      <td>0.0</td>\n",
                            "      <td>0.0</td>\n",
                            "      <td>0.0</td>\n",
                            "      <td>0.0</td>\n",
                            "      <td>0.0</td>\n",
                            "      <td>0.0</td>\n",
                            "      <td>0.0</td>\n",
                            "      <td>0.0</td>\n",
                            "      <td>0.0</td>\n",
                            "      <td>0.0</td>\n",
                            "      <td>0.0</td>\n",
                            "      <td>0.0</td>\n",
                            "      <td>0.0</td>\n",
                            "      <td>0.0</td>\n",
                            "      <td>0.0</td>\n",
                            "      <td>0.0</td>\n",
                            "      <td>0.0</td>\n",
                            "      <td>0.0</td>\n",
                            "      <td>0.0</td>\n",
                            "      <td>0.0</td>\n",
                            "      <td>0.0</td>\n",
                            "      <td>0.0</td>\n",
                            "      <td>0.0</td>\n",
                            "      <td>0.0</td>\n",
                            "      <td>0.0</td>\n",
                            "      <td>0.0</td>\n",
                            "      <td>0.0</td>\n",
                            "      <td>0.0</td>\n",
                            "      <td>0.0</td>\n",
                            "      <td>0.0</td>\n",
                            "      <td>0.0</td>\n",
                            "    </tr>\n",
                            "    <tr>\n",
                            "      <th>E0YEX</th>\n",
                            "      <td>0.0</td>\n",
                            "      <td>0.0</td>\n",
                            "      <td>0.0</td>\n",
                            "      <td>0.0</td>\n",
                            "      <td>0.0</td>\n",
                            "      <td>0.0</td>\n",
                            "      <td>0.0</td>\n",
                            "      <td>0.0</td>\n",
                            "      <td>0.0</td>\n",
                            "      <td>0.0</td>\n",
                            "      <td>0.0</td>\n",
                            "      <td>0.0</td>\n",
                            "      <td>0.0</td>\n",
                            "      <td>0.0</td>\n",
                            "      <td>0.0</td>\n",
                            "      <td>0.0</td>\n",
                            "      <td>0.0</td>\n",
                            "      <td>0.0</td>\n",
                            "      <td>0.0</td>\n",
                            "      <td>0.0</td>\n",
                            "      <td>0.0</td>\n",
                            "      <td>0.0</td>\n",
                            "      <td>0.0</td>\n",
                            "      <td>0.0</td>\n",
                            "      <td>0.0</td>\n",
                            "      <td>0.0</td>\n",
                            "      <td>0.0</td>\n",
                            "      <td>0.0</td>\n",
                            "      <td>0.0</td>\n",
                            "      <td>0.0</td>\n",
                            "      <td>0.0</td>\n",
                            "      <td>0.0</td>\n",
                            "      <td>0.0</td>\n",
                            "      <td>0.0</td>\n",
                            "      <td>0.0</td>\n",
                            "      <td>0.0</td>\n",
                            "      <td>0.0</td>\n",
                            "      <td>0.0</td>\n",
                            "      <td>0.0</td>\n",
                            "      <td>0.0</td>\n",
                            "      <td>...</td>\n",
                            "      <td>0.0</td>\n",
                            "      <td>0.0</td>\n",
                            "      <td>0.0</td>\n",
                            "      <td>0.0</td>\n",
                            "      <td>0.0</td>\n",
                            "      <td>0.0</td>\n",
                            "      <td>0.0</td>\n",
                            "      <td>0.0</td>\n",
                            "      <td>0.0</td>\n",
                            "      <td>0.0</td>\n",
                            "      <td>0.0</td>\n",
                            "      <td>0.0</td>\n",
                            "      <td>0.0</td>\n",
                            "      <td>0.0</td>\n",
                            "      <td>0.0</td>\n",
                            "      <td>0.0</td>\n",
                            "      <td>0.0</td>\n",
                            "      <td>0.0</td>\n",
                            "      <td>0.0</td>\n",
                            "      <td>0.0</td>\n",
                            "      <td>0.0</td>\n",
                            "      <td>0.0</td>\n",
                            "      <td>0.0</td>\n",
                            "      <td>0.0</td>\n",
                            "      <td>0.0</td>\n",
                            "      <td>0.0</td>\n",
                            "      <td>0.0</td>\n",
                            "      <td>0.0</td>\n",
                            "      <td>0.0</td>\n",
                            "      <td>0.0</td>\n",
                            "      <td>0.0</td>\n",
                            "      <td>0.0</td>\n",
                            "      <td>0.0</td>\n",
                            "      <td>0.0</td>\n",
                            "      <td>0.0</td>\n",
                            "      <td>0.0</td>\n",
                            "      <td>0.0</td>\n",
                            "      <td>0.0</td>\n",
                            "      <td>0.0</td>\n",
                            "      <td>0.0</td>\n",
                            "    </tr>\n",
                            "    <tr>\n",
                            "      <th>05KHP</th>\n",
                            "      <td>0.0</td>\n",
                            "      <td>0.0</td>\n",
                            "      <td>0.0</td>\n",
                            "      <td>0.0</td>\n",
                            "      <td>0.0</td>\n",
                            "      <td>0.0</td>\n",
                            "      <td>0.0</td>\n",
                            "      <td>0.0</td>\n",
                            "      <td>0.0</td>\n",
                            "      <td>0.0</td>\n",
                            "      <td>0.0</td>\n",
                            "      <td>0.0</td>\n",
                            "      <td>0.0</td>\n",
                            "      <td>0.0</td>\n",
                            "      <td>0.0</td>\n",
                            "      <td>0.0</td>\n",
                            "      <td>0.0</td>\n",
                            "      <td>0.0</td>\n",
                            "      <td>0.0</td>\n",
                            "      <td>0.0</td>\n",
                            "      <td>0.0</td>\n",
                            "      <td>0.0</td>\n",
                            "      <td>0.0</td>\n",
                            "      <td>0.0</td>\n",
                            "      <td>0.0</td>\n",
                            "      <td>0.0</td>\n",
                            "      <td>0.0</td>\n",
                            "      <td>0.0</td>\n",
                            "      <td>0.0</td>\n",
                            "      <td>0.0</td>\n",
                            "      <td>0.0</td>\n",
                            "      <td>0.0</td>\n",
                            "      <td>0.0</td>\n",
                            "      <td>0.0</td>\n",
                            "      <td>0.0</td>\n",
                            "      <td>0.0</td>\n",
                            "      <td>0.0</td>\n",
                            "      <td>0.0</td>\n",
                            "      <td>0.0</td>\n",
                            "      <td>0.0</td>\n",
                            "      <td>...</td>\n",
                            "      <td>0.0</td>\n",
                            "      <td>0.0</td>\n",
                            "      <td>0.0</td>\n",
                            "      <td>0.0</td>\n",
                            "      <td>0.0</td>\n",
                            "      <td>0.0</td>\n",
                            "      <td>0.0</td>\n",
                            "      <td>0.0</td>\n",
                            "      <td>0.0</td>\n",
                            "      <td>0.0</td>\n",
                            "      <td>0.0</td>\n",
                            "      <td>0.0</td>\n",
                            "      <td>0.0</td>\n",
                            "      <td>0.0</td>\n",
                            "      <td>0.0</td>\n",
                            "      <td>0.0</td>\n",
                            "      <td>0.0</td>\n",
                            "      <td>0.0</td>\n",
                            "      <td>0.0</td>\n",
                            "      <td>0.0</td>\n",
                            "      <td>0.0</td>\n",
                            "      <td>0.0</td>\n",
                            "      <td>0.0</td>\n",
                            "      <td>0.0</td>\n",
                            "      <td>0.0</td>\n",
                            "      <td>0.0</td>\n",
                            "      <td>0.0</td>\n",
                            "      <td>0.0</td>\n",
                            "      <td>0.0</td>\n",
                            "      <td>0.0</td>\n",
                            "      <td>0.0</td>\n",
                            "      <td>0.0</td>\n",
                            "      <td>0.0</td>\n",
                            "      <td>0.0</td>\n",
                            "      <td>0.0</td>\n",
                            "      <td>0.0</td>\n",
                            "      <td>0.0</td>\n",
                            "      <td>0.0</td>\n",
                            "      <td>0.0</td>\n",
                            "      <td>0.0</td>\n",
                            "    </tr>\n",
                            "  </tbody>\n",
                            "</table>\n",
                            "<p>5 rows × 1314 columns</p>\n",
                            "</div>"
                        ],
                        "text/plain":
                        [
                            "             00Q4V31T  012VT4JK  028IO5W2  ...  ZWFD8OHC  ZX06ZDZN  ZZJVE4HO\n",
                            "sequence_id                                ...                              \n",
                            "ZAUCS             0.0       0.0       0.0  ...       0.0       0.0       0.0\n",
                            "XRHE8             0.0       0.0       0.0  ...       0.0       0.0       0.0\n",
                            "0M374             0.0       0.0       0.0  ...       0.0       0.0       0.0\n",
                            "E0YEX             0.0       0.0       0.0  ...       0.0       0.0       0.0\n",
                            "05KHP             0.0       0.0       0.0  ...       0.0       0.0       0.0\n",
                            "\n",
                            "[5 rows x 1314 columns]"
                        ]
                    },
                    "metadata":
                    {
                        "tags":
                        []
                    },
                    "execution_count": 12
                }
            ]
        },
        {
            "cell_type": "code",
            "metadata":
            {
                "id": "-npL605AHp-P",
                "executionInfo":
                {
                    "status": "ok",
                    "timestamp": 1602849922593,
                    "user_tz": -420,
                    "elapsed": 23492,
                    "user":
                    {
                        "displayName": "Vladimir Zhuravlev",
                        "photoUrl": "",
                        "userId": "16372324542816680996"
                    }
                },
                "outputId": "8e1733d3-7fab-4628-b067-7ca995da0198",
                "colab":
                {
                    "base_uri": "https://localhost:8080/",
                    "height": 235
                }
            },
            "source":
            [
                "# get the column with the max value in each row\n",
                "lab_ids = pd.DataFrame(train_labels.idxmax(axis=1), columns=['lab_id'])\n",
                "lab_ids.head()"
            ],
            "execution_count": null,
            "outputs":
            [
                {
                    "output_type": "execute_result",
                    "data":
                    {
                        "text/html":
                        [
                            "<div>\n",
                            "<style scoped>\n",
                            "    .dataframe tbody tr th:only-of-type {\n",
                            "        vertical-align: middle;\n",
                            "    }\n",
                            "\n",
                            "    .dataframe tbody tr th {\n",
                            "        vertical-align: top;\n",
                            "    }\n",
                            "\n",
                            "    .dataframe thead th {\n",
                            "        text-align: right;\n",
                            "    }\n",
                            "</style>\n",
                            "<table border=\"1\" class=\"dataframe\">\n",
                            "  <thead>\n",
                            "    <tr style=\"text-align: right;\">\n",
                            "      <th></th>\n",
                            "      <th>lab_id</th>\n",
                            "    </tr>\n",
                            "    <tr>\n",
                            "      <th>sequence_id</th>\n",
                            "      <th></th>\n",
                            "    </tr>\n",
                            "  </thead>\n",
                            "  <tbody>\n",
                            "    <tr>\n",
                            "      <th>ZAUCS</th>\n",
                            "      <td>65CCBIXK</td>\n",
                            "    </tr>\n",
                            "    <tr>\n",
                            "      <th>XRHE8</th>\n",
                            "      <td>3C2VZQ2R</td>\n",
                            "    </tr>\n",
                            "    <tr>\n",
                            "      <th>0M374</th>\n",
                            "      <td>862RYK1K</td>\n",
                            "    </tr>\n",
                            "    <tr>\n",
                            "      <th>E0YEX</th>\n",
                            "      <td>HVBBJM37</td>\n",
                            "    </tr>\n",
                            "    <tr>\n",
                            "      <th>05KHP</th>\n",
                            "      <td>Y4G53L4X</td>\n",
                            "    </tr>\n",
                            "  </tbody>\n",
                            "</table>\n",
                            "</div>"
                        ],
                        "text/plain":
                        [
                            "               lab_id\n",
                            "sequence_id          \n",
                            "ZAUCS        65CCBIXK\n",
                            "XRHE8        3C2VZQ2R\n",
                            "0M374        862RYK1K\n",
                            "E0YEX        HVBBJM37\n",
                            "05KHP        Y4G53L4X"
                        ]
                    },
                    "metadata":
                    {
                        "tags":
                        []
                    },
                    "execution_count": 13
                }
            ]
        },
        {
            "cell_type": "code",
            "metadata":
            {
                "id": "EmUcqx-pHrd7",
                "executionInfo":
                {
                    "status": "ok",
                    "timestamp": 1602849922596,
                    "user_tz": -420,
                    "elapsed": 23493,
                    "user":
                    {
                        "displayName": "Vladimir Zhuravlev",
                        "photoUrl": "",
                        "userId": "16372324542816680996"
                    }
                },
                "outputId": "69284e44-56c6-4d6c-fe88-884a61364970",
                "colab":
                {
                    "base_uri": "https://localhost:8080/",
                    "height": 170
                }
            },
            "source":
            [
                "# get the distrubtion of lab prevalence in the training set\n",
                "lab_ids['lab_id'].value_counts().describe()"
            ],
            "execution_count": null,
            "outputs":
            [
                {
                    "output_type": "execute_result",
                    "data":
                    {
                        "text/plain":
                        [
                            "count    1314.000000\n",
                            "mean       47.958143\n",
                            "std       262.552258\n",
                            "min         1.000000\n",
                            "25%         9.000000\n",
                            "50%        15.000000\n",
                            "75%        34.000000\n",
                            "max      8286.000000\n",
                            "Name: lab_id, dtype: float64"
                        ]
                    },
                    "metadata":
                    {
                        "tags":
                        []
                    },
                    "execution_count": 14
                }
            ]
        },
        {
            "cell_type": "code",
            "metadata":
            {
                "id": "JCQ8C90_HtNi",
                "executionInfo":
                {
                    "status": "ok",
                    "timestamp": 1602849922598,
                    "user_tz": -420,
                    "elapsed": 23493,
                    "user":
                    {
                        "displayName": "Vladimir Zhuravlev",
                        "photoUrl": "",
                        "userId": "16372324542816680996"
                    }
                },
                "outputId": "f827deff-742a-49e4-9d7e-19cf9b2df93f",
                "colab":
                {
                    "base_uri": "https://localhost:8080/",
                    "height": 119
                }
            },
            "source":
            [
                "# Sort lab ids by prevalence\n",
                "lab_ids_sorted = (lab_ids['lab_id'].value_counts(normalize=True)\n",
                "                  .sort_values(ascending=False))\n",
                "lab_ids_sorted.head()"
            ],
            "execution_count": null,
            "outputs":
            [
                {
                    "output_type": "execute_result",
                    "data":
                    {
                        "text/plain":
                        [
                            "I7FXTVDP    0.131488\n",
                            "RKJHZGDQ    0.043353\n",
                            "GTVTUGVY    0.042401\n",
                            "A18S09P2    0.016884\n",
                            "Q2K8NHZY    0.015440\n",
                            "Name: lab_id, dtype: float64"
                        ]
                    },
                    "metadata":
                    {
                        "tags":
                        []
                    },
                    "execution_count": 15
                }
            ]
        },
        {
            "cell_type": "code",
            "metadata":
            {
                "id": "ZNqBUWP7JUPv",
                "executionInfo":
                {
                    "status": "ok",
                    "timestamp": 1602849926144,
                    "user_tz": -420,
                    "elapsed": 27036,
                    "user":
                    {
                        "displayName": "Vladimir Zhuravlev",
                        "photoUrl": "",
                        "userId": "16372324542816680996"
                    }
                },
                "outputId": "5fb301cb-0a6e-4712-d51d-8d828c1432c8",
                "colab":
                {
                    "base_uri": "https://localhost:8080/",
                    "height": 34
                }
            },
            "source":
            [
                "bases = list(sorted(set(''.join(train_values.sequence.values))))\n",
                "base_num = len(bases)\n",
                "bases"
            ],
            "execution_count": null,
            "outputs":
            [
                {
                    "output_type": "execute_result",
                    "data":
                    {
                        "text/plain":
                        [
                            "['A', 'C', 'G', 'N', 'T']"
                        ]
                    },
                    "metadata":
                    {
                        "tags":
                        []
                    },
                    "execution_count": 16
                }
            ]
        },
        {
            "cell_type": "code",
            "metadata":
            {
                "id": "Jnjrs-Iwk3kf",
                "executionInfo":
                {
                    "status": "ok",
                    "timestamp": 1602849926149,
                    "user_tz": -420,
                    "elapsed": 27037,
                    "user":
                    {
                        "displayName": "Vladimir Zhuravlev",
                        "photoUrl": "",
                        "userId": "16372324542816680996"
                    }
                },
                "outputId": "915c3751-70b3-4428-849c-313c5b9b5322",
                "colab":
                {
                    "base_uri": "https://localhost:8080/",
                    "height": 34
                }
            },
            "source":
            [
                "real_bases = []\n",
                "\n",
                "for base in bases:\n",
                "    if base != 'N':\n",
                "        real_bases.append(base)\n",
                "\n",
                "real_bases"
            ],
            "execution_count": null,
            "outputs":
            [
                {
                    "output_type": "execute_result",
                    "data":
                    {
                        "text/plain":
                        [
                            "['A', 'C', 'G', 'T']"
                        ]
                    },
                    "metadata":
                    {
                        "tags":
                        []
                    },
                    "execution_count": 17
                }
            ]
        },
        {
            "cell_type": "code",
            "metadata":
            {
                "id": "TasfbVd-JUPx",
                "executionInfo":
                {
                    "status": "ok",
                    "timestamp": 1602849926152,
                    "user_tz": -420,
                    "elapsed": 27037,
                    "user":
                    {
                        "displayName": "Vladimir Zhuravlev",
                        "photoUrl": "",
                        "userId": "16372324542816680996"
                    }
                },
                "outputId": "eaf4c121-e2c1-4171-8512-5c9b5cf5b5cd",
                "colab":
                {
                    "base_uri": "https://localhost:8080/",
                    "height": 51
                }
            },
            "source":
            [
                "from itertools import product\n",
                "\n",
                "# N-gram index\n",
                "n_index = 6\n",
                "\n",
                "# Get permutations with repetitions\n",
                "def get_subsequences(n):\n",
                "    return sorted([''.join(p) for p in product(bases, repeat=n)])\n",
                "\n",
                "subsequences = get_subsequences(n=n_index)\n",
                "print(\"ACGTN-subsequences of {} bases: {}\".format(n_index, len(subsequences)))\n",
                "print(subsequences[:10])"
            ],
            "execution_count": null,
            "outputs":
            [
                {
                    "output_type": "stream",
                    "text":
                    [
                        "ACGTN-subsequences of 6 bases: 15625\n",
                        "['AAAAAA', 'AAAAAC', 'AAAAAG', 'AAAAAN', 'AAAAAT', 'AAAACA', 'AAAACC', 'AAAACG', 'AAAACN', 'AAAACT']\n"
                    ],
                    "name": "stdout"
                }
            ]
        },
        {
            "cell_type": "code",
            "metadata":
            {
                "id": "Je9-er8SbP5v",
                "executionInfo":
                {
                    "status": "ok",
                    "timestamp": 1602849926152,
                    "user_tz": -420,
                    "elapsed": 27034,
                    "user":
                    {
                        "displayName": "Vladimir Zhuravlev",
                        "photoUrl": "",
                        "userId": "16372324542816680996"
                    }
                },
                "outputId": "99a51170-23f3-4e85-e71f-44b18ea87c5f",
                "colab":
                {
                    "base_uri": "https://localhost:8080/",
                    "height": 51
                }
            },
            "source":
            [
                "real_subsequences = []\n",
                "\n",
                "for subseq in subsequences:\n",
                "    if 'N' not in subseq:\n",
                "        real_subsequences.append(subseq)\n",
                "\n",
                "print('ACGT-subsequences of {} bases: {}'.format(n_index, len(real_subsequences)))\n",
                "print(real_subsequences[:10])"
            ],
            "execution_count": null,
            "outputs":
            [
                {
                    "output_type": "stream",
                    "text":
                    [
                        "ACGT-subsequences of 6 bases: 4096\n",
                        "['AAAAAA', 'AAAAAC', 'AAAAAG', 'AAAAAT', 'AAAACA', 'AAAACC', 'AAAACG', 'AAAACT', 'AAAAGA', 'AAAAGC']\n"
                    ],
                    "name": "stdout"
                }
            ]
        },
        {
            "cell_type": "code",
            "metadata":
            {
                "id": "Ch3IER1lbyoS",
                "executionInfo":
                {
                    "status": "ok",
                    "timestamp": 1602849926153,
                    "user_tz": -420,
                    "elapsed": 27030,
                    "user":
                    {
                        "displayName": "Vladimir Zhuravlev",
                        "photoUrl": "",
                        "userId": "16372324542816680996"
                    }
                },
                "outputId": "e5ae43e1-1fbd-499f-fe9b-120053538f99",
                "colab":
                {
                    "base_uri": "https://localhost:8080/",
                    "height": 289
                }
            },
            "source":
            [
                "def filter_subsequences(subsequences):\n",
                "    subseq_dict = {}\n",
                "\n",
                "    for subsequence in subsequences:\n",
                "        subseq_dict[subsequence] = {}\n",
                "        subsequences_old = [subsequence]\n",
                "        subsequences_new = []\n",
                "\n",
                "        for i in range(n_index):\n",
                "            for subseq in subsequences_old:\n",
                "                if subseq[i] != 'N':\n",
                "                    subsequences_new.append(subseq)\n",
                "                else:\n",
                "                    for real_base in real_bases:\n",
                "                        subseq_new = subseq[:i] + real_base + subseq[i + 1:]\n",
                "                        subsequences_new.append(subseq_new)\n",
                "\n",
                "            subsequences_old = subsequences_new[:]\n",
                "            subsequences_new.clear()\n",
                "\n",
                "        coeff = 1.0 / len(subsequences_old)\n",
                "\n",
                "        for subseq_new in subsequences_old:\n",
                "            subseq_dict[subsequence][subseq_new] = coeff\n",
                "\n",
                "    return subseq_dict\n",
                "\n",
                "subseq_dict = filter_subsequences(subsequences)\n",
                "subseq_dict['ACGTNN']"
            ],
            "execution_count": null,
            "outputs":
            [
                {
                    "output_type": "execute_result",
                    "data":
                    {
                        "text/plain":
                        [
                            "{'ACGTAA': 0.0625,\n",
                            " 'ACGTAC': 0.0625,\n",
                            " 'ACGTAG': 0.0625,\n",
                            " 'ACGTAT': 0.0625,\n",
                            " 'ACGTCA': 0.0625,\n",
                            " 'ACGTCC': 0.0625,\n",
                            " 'ACGTCG': 0.0625,\n",
                            " 'ACGTCT': 0.0625,\n",
                            " 'ACGTGA': 0.0625,\n",
                            " 'ACGTGC': 0.0625,\n",
                            " 'ACGTGG': 0.0625,\n",
                            " 'ACGTGT': 0.0625,\n",
                            " 'ACGTTA': 0.0625,\n",
                            " 'ACGTTC': 0.0625,\n",
                            " 'ACGTTG': 0.0625,\n",
                            " 'ACGTTT': 0.0625}"
                        ]
                    },
                    "metadata":
                    {
                        "tags":
                        []
                    },
                    "execution_count": 20
                }
            ]
        },
        {
            "cell_type": "code",
            "metadata":
            {
                "id": "2iJawDMbJUPy",
                "executionInfo":
                {
                    "status": "ok",
                    "timestamp": 1602851053611,
                    "user_tz": -420,
                    "elapsed": 1154483,
                    "user":
                    {
                        "displayName": "Vladimir Zhuravlev",
                        "photoUrl": "",
                        "userId": "16372324542816680996"
                    }
                },
                "outputId": "a0111a41-1127-4f2f-9912-664b8c9cc823",
                "colab":
                {
                    "base_uri": "https://localhost:8080/",
                    "height": 51
                }
            },
            "source":
            [
                "import os\n",
                "import shutil\n",
                "from tqdm import tqdm\n",
                "\n",
                "# Used to prevent Memory Error\n",
                "virtual_batch_size = 4096\n",
                "\n",
                "def save_features(data, prefix):\n",
                "    sample_num = len(data.index)\n",
                "\n",
                "    dataset_path = '{}{}/'.format(prepr_dir, prefix)\n",
                "    if os.path.exists(dataset_path):\n",
                "        shutil.rmtree(dataset_path)\n",
                "    os.mkdir(dataset_path)\n",
                "\n",
                "    ngrams = None\n",
                "\n",
                "    # Make ngram features\n",
                "    with tqdm(total=sample_num) as tqdm_bar:\n",
                "        token_dict = {}\n",
                "\n",
                "        for i, (index, row) in enumerate(data.iterrows()):\n",
                "            # Accumulate counts of ngrams into dict\n",
                "            token_dict[index] = {subseq: 0.0 for subseq in real_subsequences}\n",
                "            bases = ''\n",
                "\n",
                "            for base_val in row.sequence:\n",
                "                bases += base_val[0]\n",
                "\n",
                "                if len(bases) == n_index + 1:\n",
                "                    bases = bases[1:]\n",
                "\n",
                "                if len(bases) == n_index:\n",
                "                    for subseq_new, subseq_coeff in subseq_dict[bases].items():\n",
                "                        token_dict[index][subseq_new] += subseq_coeff\n",
                "                  \n",
                "            # Add rows to NumPy array\n",
                "            if (i > 0 and (i + 1) % virtual_batch_size == 0) or i == sample_num - 1:\n",
                "                # Convert dictionary to Pandas\n",
                "                df_ngrams = pd.DataFrame.from_dict(token_dict, orient='index')\n",
                "\n",
                "                # Convert Pandas to NumPy and add to the resulting array\n",
                "                ngrams_now = df_ngrams.to_numpy(np.int16)\n",
                "\n",
                "                if ngrams is None:\n",
                "                    ngrams = ngrams_now  # Create an array if not presented\n",
                "                else:\n",
                "                    ngrams = np.vstack([ngrams, ngrams_now])  # Add rows to the end of the array\n",
                "\n",
                "                token_dict.clear()\n",
                "\n",
                "            tqdm_bar.update(1)\n",
                "\n",
                "    # Save NumPy array\n",
                "    np.save('{}/ngrams.npy'.format(dataset_path), ngrams)\n",
                "            \n",
                "    # Save molecular properties (i.e. phenotype)\n",
                "    properties = data.drop('sequence', axis=1)\n",
                "    np.save('{}/properties.npy'.format(dataset_path), properties.to_numpy(np.float))\n",
                "\n",
                "save_features(train_values, 'train')\n",
                "save_features(test_values, 'test')"
            ],
            "execution_count": null,
            "outputs":
            [
                {
                    "output_type": "stream",
                    "text":
                    [
                        "100%|██████████| 63017/63017 [14:25<00:00, 72.80it/s] \n",
                        "100%|██████████| 18816/18816 [04:17<00:00, 73.13it/s] \n"
                    ],
                    "name": "stderr"
                }
            ]
        },
        {
            "cell_type": "code",
            "metadata":
            {
                "id": "RFgMezqRH-iZ"
            },
            "source":
            [
                "def save_targets(lab_ids, lab_ids_sorted, prefix):\n",
                "    _y = lab_ids.values.ravel()\n",
                "    sample_num = _y.shape[0]\n",
                "\n",
                "    lab_ids_keys_sorted = list(sorted(lab_ids_sorted.to_dict().keys()))\n",
                "    classes = np.array(lab_ids_keys_sorted)\n",
                "    out_dim = len(lab_ids_keys_sorted)\n",
                "    y = np.zeros((sample_num, out_dim), dtype=np.float)\n",
                "\n",
                "    for i, lab_id in enumerate(_y):\n",
                "        y[i][lab_ids_keys_sorted.index(lab_id)] = 1.0\n",
                "\n",
                "    dataset_path = '{}{}/'.format(prepr_dir, prefix)\n",
                "    np.save('{}/y.npy'.format(dataset_path), y)\n",
                "    np.save('{}/y_ravel.npy'.format(dataset_path), _y)\n",
                "    np.save('{}/y_classes.npy'.format(dataset_path), classes)\n",
                "\n",
                "save_targets(lab_ids, lab_ids_sorted, 'train')"
            ],
            "execution_count": null,
            "outputs":
            []
        },
        {
            "cell_type": "code",
            "metadata":
            {
                "id": "kZZYNm8LuGXl",
                "executionInfo":
                {
                    "status": "ok",
                    "timestamp": 1602851060280,
                    "user_tz": -420,
                    "elapsed": 1161136,
                    "user":
                    {
                        "displayName": "Vladimir Zhuravlev",
                        "photoUrl": "",
                        "userId": "16372324542816680996"
                    }
                },
                "outputId": "69006f6f-68bc-4972-8f85-53a6db6f35a4",
                "colab":
                {
                    "base_uri": "https://localhost:8080/",
                    "height": 102
                }
            },
            "source":
            [
                "train_ngrams = np.load(prepr_dir + '/train/ngrams.npy')\n",
                "train_ngrams[0, :100]"
            ],
            "execution_count": null,
            "outputs":
            [
                {
                    "output_type": "execute_result",
                    "data":
                    {
                        "text/plain":
                        [
                            "array([4, 6, 3, 5, 7, 2, 6, 1, 2, 2, 3, 0, 1, 4, 5, 7, 4, 1, 3, 8, 3, 3,\n",
                            "       6, 2, 2, 3, 3, 2, 2, 1, 4, 0, 1, 2, 3, 1, 2, 2, 2, 3, 3, 3, 1, 1,\n",
                            "       4, 1, 5, 0, 4, 1, 4, 3, 1, 2, 1, 3, 3, 3, 3, 3, 6, 7, 2, 2, 1, 4,\n",
                            "       4, 1, 1, 3, 4, 0, 3, 2, 2, 0, 0, 7, 2, 4, 2, 1, 1, 2, 1, 3, 1, 6,\n",
                            "       3, 3, 5, 4, 1, 0, 3, 3, 4, 0, 1, 4], dtype=int16)"
                        ]
                    },
                    "metadata":
                    {
                        "tags":
                        []
                    },
                    "execution_count": 23
                }
            ]
        },
        {
            "cell_type": "code",
            "metadata":
            {
                "id": "8j5hBIoouGXn",
                "executionInfo":
                {
                    "status": "ok",
                    "timestamp": 1602851060282,
                    "user_tz": -420,
                    "elapsed": 1161127,
                    "user":
                    {
                        "displayName": "Vladimir Zhuravlev",
                        "photoUrl": "",
                        "userId": "16372324542816680996"
                    }
                },
                "outputId": "d61d54d9-29e2-4c77-96e2-aaffc7466436",
                "colab":
                {
                    "base_uri": "https://localhost:8080/",
                    "height": 68
                }
            },
            "source":
            [
                "train_properties = np.load(prepr_dir + '/train/properties.npy')\n",
                "train_properties[0]"
            ],
            "execution_count": null,
            "outputs":
            [
                {
                    "output_type": "execute_result",
                    "data":
                    {
                        "text/plain":
                        [
                            "array([1., 0., 1., 0., 0., 0., 1., 0., 0., 1., 0., 0., 0., 0., 0., 0., 0.,\n",
                            "       1., 0., 0., 0., 0., 0., 0., 0., 0., 0., 0., 0., 0., 0., 0., 0., 0.,\n",
                            "       0., 0., 0., 1., 0.])"
                        ]
                    },
                    "metadata":
                    {
                        "tags":
                        []
                    },
                    "execution_count": 24
                }
            ]
        },
        {
            "cell_type": "code",
            "metadata":
            {
                "id": "MMGJcbwXJaPU",
                "executionInfo":
                {
                    "status": "ok",
                    "timestamp": 1602851062802,
                    "user_tz": -420,
                    "elapsed": 1163642,
                    "user":
                    {
                        "displayName": "Vladimir Zhuravlev",
                        "photoUrl": "",
                        "userId": "16372324542816680996"
                    }
                },
                "outputId": "669b9801-73f3-45f9-a07d-8c8bd9862030",
                "colab":
                {
                    "base_uri": "https://localhost:8080/",
                    "height": 34
                }
            },
            "source":
            [
                "train_targets = np.load(prepr_dir + 'train/y.npy')\n",
                "np.argmax(train_targets[0])"
            ],
            "execution_count": null,
            "outputs":
            [
                {
                    "output_type": "execute_result",
                    "data":
                    {
                        "text/plain":
                        [
                            "234"
                        ]
                    },
                    "metadata":
                    {
                        "tags":
                        []
                    },
                    "execution_count": 25
                }
            ]
        },
        {
            "cell_type": "code",
            "metadata":
            {
                "id": "BPX6vj_iJg5b",
                "executionInfo":
                {
                    "status": "ok",
                    "timestamp": 1602851062805,
                    "user_tz": -420,
                    "elapsed": 1163640,
                    "user":
                    {
                        "displayName": "Vladimir Zhuravlev",
                        "photoUrl": "",
                        "userId": "16372324542816680996"
                    }
                },
                "outputId": "08f5d3f3-79c8-4bd3-e7aa-244da89dbb91",
                "colab":
                {
                    "base_uri": "https://localhost:8080/",
                    "height": 35
                }
            },
            "source":
            [
                "train_y_ravel = np.load(prepr_dir + 'train/y_ravel.npy', allow_pickle=True)\n",
                "train_y_ravel[0]"
            ],
            "execution_count": null,
            "outputs":
            [
                {
                    "output_type": "execute_result",
                    "data":
                    {
                        "application/vnd.google.colaboratory.intrinsic+json":
                        {
                            "type": "string"
                        },
                        "text/plain":
                        [
                            "'65CCBIXK'"
                        ]
                    },
                    "metadata":
                    {
                        "tags":
                        []
                    },
                    "execution_count": 26
                }
            ]
        },
        {
            "cell_type": "code",
            "metadata":
            {
                "id": "C-nf04LkJh8S",
                "executionInfo":
                {
                    "status": "ok",
                    "timestamp": 1602851062807,
                    "user_tz": -420,
                    "elapsed": 1163638,
                    "user":
                    {
                        "displayName": "Vladimir Zhuravlev",
                        "photoUrl": "",
                        "userId": "16372324542816680996"
                    }
                },
                "outputId": "e0e450c6-0caa-4dfd-b37e-f0feb696ba46",
                "colab":
                {
                    "base_uri": "https://localhost:8080/",
                    "height": 35
                }
            },
            "source":
            [
                "train_y_classes = np.load(prepr_dir + 'train/y_classes.npy')\n",
                "train_y_classes[0]"
            ],
            "execution_count": null,
            "outputs":
            [
                {
                    "output_type": "execute_result",
                    "data":
                    {
                        "application/vnd.google.colaboratory.intrinsic+json":
                        {
                            "type": "string"
                        },
                        "text/plain":
                        [
                            "'00Q4V31T'"
                        ]
                    },
                    "metadata":
                    {
                        "tags":
                        []
                    },
                    "execution_count": 27
                }
            ]
        },
        {
            "cell_type": "code",
            "metadata":
            {
                "id": "lUnuPo1WuGXw",
                "executionInfo":
                {
                    "status": "ok",
                    "timestamp": 1602851062808,
                    "user_tz": -420,
                    "elapsed": 1163637,
                    "user":
                    {
                        "displayName": "Vladimir Zhuravlev",
                        "photoUrl": "",
                        "userId": "16372324542816680996"
                    }
                },
                "outputId": "9bb5439f-638a-48b3-a38f-948b6966fdc1",
                "colab":
                {
                    "base_uri": "https://localhost:8080/",
                    "height": 102
                }
            },
            "source":
            [
                "test_ngrams = np.load(prepr_dir + '/test/ngrams.npy')\n",
                "test_ngrams[0, :100]"
            ],
            "execution_count": null,
            "outputs":
            [
                {
                    "output_type": "execute_result",
                    "data":
                    {
                        "text/plain":
                        [
                            "array([2, 4, 1, 0, 1, 6, 3, 1, 2, 4, 3, 0, 2, 3, 3, 3, 3, 1, 1, 2, 6, 3,\n",
                            "       1, 4, 3, 3, 3, 0, 2, 3, 2, 1, 0, 4, 1, 2, 1, 2, 4, 0, 4, 4, 3, 1,\n",
                            "       3, 1, 2, 2, 1, 4, 1, 4, 5, 2, 0, 1, 1, 2, 8, 3, 2, 0, 2, 2, 2, 2,\n",
                            "       2, 3, 3, 1, 0, 3, 2, 5, 2, 3, 1, 2, 2, 3, 1, 5, 3, 4, 0, 6, 2, 4,\n",
                            "       0, 2, 1, 3, 1, 3, 1, 0, 1, 7, 2, 1], dtype=int16)"
                        ]
                    },
                    "metadata":
                    {
                        "tags":
                        []
                    },
                    "execution_count": 28
                }
            ]
        },
        {
            "cell_type": "code",
            "metadata":
            {
                "id": "DRIKuj5_uGXy",
                "executionInfo":
                {
                    "status": "ok",
                    "timestamp": 1602851062809,
                    "user_tz": -420,
                    "elapsed": 1163636,
                    "user":
                    {
                        "displayName": "Vladimir Zhuravlev",
                        "photoUrl": "",
                        "userId": "16372324542816680996"
                    }
                },
                "outputId": "002feb97-3bca-4244-f75f-ca8d485e4c99",
                "colab":
                {
                    "base_uri": "https://localhost:8080/",
                    "height": 68
                }
            },
            "source":
            [
                "test_properties = np.load(prepr_dir + '/test/properties.npy')\n",
                "test_properties[0]"
            ],
            "execution_count": null,
            "outputs":
            [
                {
                    "output_type": "execute_result",
                    "data":
                    {
                        "text/plain":
                        [
                            "array([1., 0., 0., 0., 0., 0., 0., 1., 0., 0., 1., 0., 0., 0., 0., 0., 0.,\n",
                            "       1., 0., 0., 0., 0., 0., 0., 0., 0., 0., 0., 0., 0., 0., 0., 0., 0.,\n",
                            "       0., 0., 0., 0., 1.])"
                        ]
                    },
                    "metadata":
                    {
                        "tags":
                        []
                    },
                    "execution_count": 29
                }
            ]
        },
        {
            "cell_type": "code",
            "metadata":
            {
                "id": "dk1j4M2JuGX1"
            },
            "source":
            [
                ""
            ],
            "execution_count": null,
            "outputs":
            []
        }
    ]
}